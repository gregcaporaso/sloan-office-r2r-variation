{
 "metadata": {
  "name": "",
  "signature": "sha256:c0e4de517c071c013a152a8e761c36847bd94d7dbed8badc9952393392fcc373"
 },
 "nbformat": 3,
 "nbformat_minor": 0,
 "worksheets": [
  {
   "cells": [
    {
     "cell_type": "code",
     "collapsed": false,
     "input": [
      "# these files do need to be in the gist\n",
      "unweighted_dm_fp = \"unweighted_unifrac_dm.txt\"\n",
      "weighted_dm_fp = \"weighted_unifrac_dm.txt\"\n",
      "master_mapping_fp = \"beta_div_out/master_period_1-2-3_map_corrected.txt\"\n",
      "\n",
      "# these files don't need to be in the gist\n",
      "flagstaff_tp21_22_unweighted_dm_fp = \"flagstaff_tp21_22_unweighted_unifrac_dm.txt\"\n",
      "flagstaff_tp40_41_unweighted_dm_fp = \"flagstaff_tp40_41_unweighted_unifrac_dm.txt\"\n",
      "flagstaff_tp21_22_weighted_dm_fp = \"flagstaff_tp21_22_weighted_unifrac_dm.txt\"\n",
      "flagstaff_tp40_41_weighted_dm_fp = \"flagstaff_tp40_41_weighted_unifrac_dm.txt\""
     ],
     "language": "python",
     "metadata": {},
     "outputs": [],
     "prompt_number": 19
    },
    {
     "cell_type": "heading",
     "level": 2,
     "metadata": {},
     "source": [
      "Find largest distances between sampling period 1 end and period 2 start "
     ]
    },
    {
     "cell_type": "code",
     "collapsed": false,
     "input": [
      "!filter_distance_matrix.py -i $unweighted_dm_fp -o $flagstaff_tp21_22_unweighted_dm_fp -m $master_mapping_fp -s \"City:flagstaff;TimePoint:21,22\"\n",
      "!filter_distance_matrix.py -i $weighted_dm_fp -o $flagstaff_tp21_22_weighted_dm_fp -m $master_mapping_fp -s \"City:flagstaff;TimePoint:21,22\""
     ],
     "language": "python",
     "metadata": {},
     "outputs": [],
     "prompt_number": 2
    },
    {
     "cell_type": "code",
     "collapsed": false,
     "input": [
      "!compare_distance_matrices.py --method mantel -i $flagstaff_tp21_22_unweighted_dm_fp,$flagstaff_tp21_22_weighted_dm_fp  -o mantel_out -n 999"
     ],
     "language": "python",
     "metadata": {},
     "outputs": [],
     "prompt_number": 3
    },
    {
     "cell_type": "code",
     "collapsed": false,
     "input": [
      "!cat mantel_out/mantel_results.txt"
     ],
     "language": "python",
     "metadata": {},
     "outputs": [
      {
       "output_type": "stream",
       "stream": "stdout",
       "text": [
        "# Number of entries refers to the number of rows (or cols) retained in each\r\n",
        "# distance matrix after filtering the distance matrices to include only those\r\n",
        "# samples that were in both distance matrices. p-value contains the correct\r\n",
        "# number of significant digits.\r\n",
        "DM1\tDM2\tNumber of entries\tMantel r statistic\tp-value\tNumber of permutations\tTail type\r\n",
        "flagstaff_tp21_22_unweighted_unifrac_dm.txt\tflagstaff_tp21_22_weighted_unifrac_dm.txt\t81\t0.73614\t0.001\t999\ttwo sided\r\n"
       ]
      }
     ],
     "prompt_number": 4
    },
    {
     "cell_type": "code",
     "collapsed": false,
     "input": [
      "from qiime.group import get_grouped_distances \n",
      "from qiime.parse import parse_distmat, parse_mapping_file\n",
      "\n",
      "dist_matrix_header, dist_matrix = parse_distmat(open(flagstaff_tp21_22_unweighted_dm_fp,'U'))\n",
      "mapping, mapping_header, _ = parse_mapping_file(open(master_mapping_fp,'U'))"
     ],
     "language": "python",
     "metadata": {},
     "outputs": [],
     "prompt_number": 5
    },
    {
     "cell_type": "code",
     "collapsed": false,
     "input": [
      "r = get_grouped_distances(dist_matrix_header, dist_matrix,\n",
      "                                mapping_header, mapping, field='SiteIdentifier')\n",
      "distance_to_site_identifier_tp21_22 = [(e[2][0], e[0]) for e in r]\n",
      "distance_to_site_identifier_tp21_22.sort()\n",
      "for e in distance_to_site_identifier_tp21_22:\n",
      "    print e\n"
     ],
     "language": "python",
     "metadata": {},
     "outputs": [
      {
       "output_type": "stream",
       "stream": "stdout",
       "text": [
        "(0.67498101633300001, 'F2F.2.Ce')\n",
        "(0.68575478961500003, 'F3F.2.Ce')\n",
        "(0.69923740420900005, 'F3F.2.Dr')\n",
        "(0.71715745961900002, 'F2F.3.Ce')\n",
        "(0.74688569029600005, 'F3F.2.Ca')\n",
        "(0.76577553946300003, 'F3W.2.Ca')\n",
        "(0.77521069281400001, 'F2W.2.Ca')\n",
        "(0.81142037073899997, 'F1F.3.Ce')\n",
        "(0.811997425203, 'F2W.3.Ca')\n",
        "(0.81447871602999999, 'F2W.2.Ce')\n",
        "(0.81596451937699999, 'F2W.3.Dr')\n",
        "(0.82057838173099995, 'F1C.2.Ca')\n",
        "(0.825772732728, 'F3W.2.Ce')\n",
        "(0.82643646589700004, 'F1F.3.Dr')\n",
        "(0.83049849031099998, 'F1F.2.Ce')\n",
        "(0.83788911999399995, 'F1F.3.Ca')\n",
        "(0.84048953757, 'F1C.2.Ce')\n",
        "(0.84274385466099999, 'F1W.3.Ca')\n",
        "(0.84561083511199997, 'F1C.3.Ca')\n",
        "(0.84593369341400004, 'F1F.2.Dr')\n",
        "(0.84681702595899999, 'F2W.2.Dr')\n",
        "(0.86032688978799998, 'F1W.2.Ce')\n",
        "(0.86082357843599999, 'F2C.3.Ce')\n",
        "(0.86268721099400003, 'F1C.2.Dr')\n",
        "(0.86360035883099995, 'F1W.3.Dr')\n",
        "(0.86680468608299999, 'F1W.2.Dr')\n",
        "(0.87328245675799998, 'F2C.2.Ce')\n",
        "(0.87593325085999996, 'F1C.3.Dr')\n",
        "(0.92768458864400005, 'F1W.2.Ca')\n"
       ]
      }
     ],
     "prompt_number": 6
    },
    {
     "cell_type": "code",
     "collapsed": false,
     "input": [
      "print len(distance_to_site_identifier_tp21_22)"
     ],
     "language": "python",
     "metadata": {},
     "outputs": [
      {
       "output_type": "stream",
       "stream": "stdout",
       "text": [
        "29\n"
       ]
      }
     ],
     "prompt_number": 7
    },
    {
     "cell_type": "code",
     "collapsed": false,
     "input": [
      "to_resequence_distance_to_site_identifier_tp21_22 = [distance_to_site_identifier_tp21_22[i] for i in range(0,30,3)]\n",
      "for e in to_resequence_distance_to_site_identifier_tp21_22:\n",
      "    print e\n",
      "print len(to_resequence_distance_to_site_identifier_tp21_22)"
     ],
     "language": "python",
     "metadata": {},
     "outputs": [
      {
       "output_type": "stream",
       "stream": "stdout",
       "text": [
        "(0.67498101633300001, 'F2F.2.Ce')\n",
        "(0.71715745961900002, 'F2F.3.Ce')\n",
        "(0.77521069281400001, 'F2W.2.Ca')\n",
        "(0.81447871602999999, 'F2W.2.Ce')\n",
        "(0.825772732728, 'F3W.2.Ce')\n",
        "(0.83788911999399995, 'F1F.3.Ca')\n",
        "(0.84561083511199997, 'F1C.3.Ca')\n",
        "(0.86032688978799998, 'F1W.2.Ce')\n",
        "(0.86360035883099995, 'F1W.3.Dr')\n",
        "(0.87593325085999996, 'F1C.3.Dr')\n",
        "10\n"
       ]
      }
     ],
     "prompt_number": 8
    },
    {
     "cell_type": "heading",
     "level": 2,
     "metadata": {},
     "source": [
      "Find largest distances between sampling period 1 end and period 2 start "
     ]
    },
    {
     "cell_type": "code",
     "collapsed": false,
     "input": [
      "!filter_distance_matrix.py -i $unweighted_dm_fp -o $flagstaff_tp40_41_unweighted_dm_fp -m $master_mapping_fp -s \"City:flagstaff;TimePoint:40,41\"\n",
      "!filter_distance_matrix.py -i $weighted_dm_fp -o $flagstaff_tp40_41_weighted_dm_fp -m $master_mapping_fp -s \"City:flagstaff;TimePoint:40,41\""
     ],
     "language": "python",
     "metadata": {},
     "outputs": [],
     "prompt_number": 9
    },
    {
     "cell_type": "code",
     "collapsed": false,
     "input": [
      "!compare_distance_matrices.py --method mantel -i $flagstaff_tp40_41_unweighted_dm_fp,$flagstaff_tp40_41_weighted_dm_fp  -o mantel_out -n 999"
     ],
     "language": "python",
     "metadata": {},
     "outputs": [],
     "prompt_number": 10
    },
    {
     "cell_type": "code",
     "collapsed": false,
     "input": [
      "!cat mantel_out/mantel_results.txt"
     ],
     "language": "python",
     "metadata": {},
     "outputs": [
      {
       "output_type": "stream",
       "stream": "stdout",
       "text": [
        "# Number of entries refers to the number of rows (or cols) retained in each\r\n",
        "# distance matrix after filtering the distance matrices to include only those\r\n",
        "# samples that were in both distance matrices. p-value contains the correct\r\n",
        "# number of significant digits.\r\n",
        "DM1\tDM2\tNumber of entries\tMantel r statistic\tp-value\tNumber of permutations\tTail type\r\n",
        "flagstaff_tp40_41_unweighted_unifrac_dm.txt\tflagstaff_tp40_41_weighted_unifrac_dm.txt\t51\t0.78958\t0.001\t999\ttwo sided\r\n"
       ]
      }
     ],
     "prompt_number": 11
    },
    {
     "cell_type": "code",
     "collapsed": false,
     "input": [
      "from qiime.group import get_grouped_distances \n",
      "from qiime.parse import parse_distmat, parse_mapping_file\n",
      "\n",
      "dist_matrix_header, dist_matrix = parse_distmat(open(flagstaff_tp40_41_unweighted_dm_fp,'U'))\n",
      "mapping, mapping_header, _ = parse_mapping_file(open(master_mapping_fp,'U'))"
     ],
     "language": "python",
     "metadata": {},
     "outputs": [],
     "prompt_number": 12
    },
    {
     "cell_type": "code",
     "collapsed": false,
     "input": [
      "r = get_grouped_distances(dist_matrix_header, dist_matrix,\n",
      "                                mapping_header, mapping, field='SiteIdentifier')\n",
      "distance_to_site_identifier_tp40_41 = [(e[2][0], e[0]) for e in r]\n",
      "distance_to_site_identifier_tp40_41.sort()\n",
      "for e in distance_to_site_identifier_tp40_41:\n",
      "    print e\n"
     ],
     "language": "python",
     "metadata": {},
     "outputs": [
      {
       "output_type": "stream",
       "stream": "stdout",
       "text": [
        "(0.64429315476000004, 'F2F.2.Dr')\n",
        "(0.64442199973400005, 'F3F.2.Dr')\n",
        "(0.70199994909700003, 'F1W.3.Dr')\n",
        "(0.70442783902399997, 'F1F.2.Dr')\n",
        "(0.73167282156000002, 'F3F.3.Dr')\n",
        "(0.73925249870200005, 'F3F.3.Ce')\n",
        "(0.76150450744200004, 'F2F.3.Ce')\n",
        "(0.76385873182899999, 'F3C.3.Ce')\n",
        "(0.76663136008699995, 'F3C.3.Dr')\n",
        "(0.77980729529299997, 'F2C.2.Dr')\n",
        "(0.78350110533999995, 'F1C.3.Ce')\n",
        "(0.79939392382100005, 'F2C.3.Dr')\n",
        "(0.83945078062199996, 'F3W.2.Ce')\n"
       ]
      }
     ],
     "prompt_number": 13
    },
    {
     "cell_type": "code",
     "collapsed": false,
     "input": [
      "from cogent.maths.stats.test import mc_t_two_sample"
     ],
     "language": "python",
     "metadata": {},
     "outputs": [],
     "prompt_number": 14
    },
    {
     "cell_type": "code",
     "collapsed": false,
     "input": [
      "obs_t, param_p_val, perm_t_stats, nonparam_p_val = mc_t_two_sample([e[0] for e in to_resequence_distance_to_site_identifier_tp21_22], [e[0] for e in distance_to_site_identifier_tp40_41], tails='high')\n",
      "print obs_t, param_p_val, nonparam_p_val"
     ],
     "language": "python",
     "metadata": {},
     "outputs": [
      {
       "output_type": "stream",
       "stream": "stdout",
       "text": [
        "2.54702948153 0.00938225598194 0.008\n"
       ]
      }
     ],
     "prompt_number": 15
    },
    {
     "cell_type": "markdown",
     "metadata": {},
     "source": [
      "So, the samples that we want to include in the next sequencing run are these. The question we want to answer is *is the distribution of distances between between samples from the end of sampling period 1 and the beginning of sampling period two smaller when those samples are sequenced on the same sequencing run, relative to when they are sequenced on different sequencing runs.* Here, we show that the distances between the end of sampling run 1 and the beginning of sampling run 2 are larger than the distances between the end of sampling run 2 and the beginning of sampling run 3 (just as a sanity check to make sure that the differences we're seeing aren't what we expect because a large amount of time has elapsed between sampling events)."
     ]
    },
    {
     "cell_type": "code",
     "collapsed": false,
     "input": [
      "for e in to_resequence_distance_to_site_identifier_tp21_22:\n",
      "    print e[1] + '.021'\n",
      "    print e[1] + '.022'"
     ],
     "language": "python",
     "metadata": {},
     "outputs": [
      {
       "output_type": "stream",
       "stream": "stdout",
       "text": [
        "F2F.2.Ce.021\n",
        "F2F.2.Ce.022\n",
        "F2F.3.Ce.021\n",
        "F2F.3.Ce.022\n",
        "F2W.2.Ca.021\n",
        "F2W.2.Ca.022\n",
        "F2W.2.Ce.021\n",
        "F2W.2.Ce.022\n",
        "F3W.2.Ce.021\n",
        "F3W.2.Ce.022\n",
        "F1F.3.Ca.021\n",
        "F1F.3.Ca.022\n",
        "F1C.3.Ca.021\n",
        "F1C.3.Ca.022\n",
        "F1W.2.Ce.021\n",
        "F1W.2.Ce.022\n",
        "F1W.3.Dr.021\n",
        "F1W.3.Dr.022\n",
        "F1C.3.Dr.021\n",
        "F1C.3.Dr.022\n"
       ]
      }
     ],
     "prompt_number": 16
    },
    {
     "cell_type": "markdown",
     "metadata": {},
     "source": [
      "We don't want to choose the same sample ids that we have between samples that we have for sampling periods 2 and 3 because we don't observe a significant difference between those samples between sampling periods 1 and 2."
     ]
    },
    {
     "cell_type": "code",
     "collapsed": false,
     "input": [
      "distance_to_site_identifier_tp21_22_same_sids = [e for e in distance_to_site_identifier_tp21_22 if e[1] in dict(distance_to_site_identifier_tp40_41).values()]"
     ],
     "language": "python",
     "metadata": {},
     "outputs": [],
     "prompt_number": 17
    },
    {
     "cell_type": "code",
     "collapsed": false,
     "input": [
      "obs_t, param_p_val, perm_t_stats, nonparam_p_val = mc_t_two_sample([e[0] for e in distance_to_site_identifier_tp21_22_same_sids], [e[0] for e in distance_to_site_identifier_tp40_41], tails='high')\n",
      "print obs_t, param_p_val, nonparam_p_val"
     ],
     "language": "python",
     "metadata": {},
     "outputs": [
      {
       "output_type": "stream",
       "stream": "stdout",
       "text": [
        "1.43132994448 0.0857894398811 0.08\n"
       ]
      }
     ],
     "prompt_number": 18
    },
    {
     "cell_type": "code",
     "collapsed": false,
     "input": [],
     "language": "python",
     "metadata": {},
     "outputs": [],
     "prompt_number": 18
    }
   ],
   "metadata": {}
  }
 ]
}