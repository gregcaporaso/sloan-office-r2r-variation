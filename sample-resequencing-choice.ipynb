{
 "metadata": {
  "name": "",
  "signature": "sha256:32722cc797023fba4ba2398b5905e63f6dd7f74d347556b2735c2d35c478df80"
 },
 "nbformat": 3,
 "nbformat_minor": 0,
 "worksheets": [
  {
   "cells": [
    {
     "cell_type": "code",
     "collapsed": false,
     "input": [
      "# these files do need to be in the gist\n",
      "unweighted_dm_fp = \"run_1_unweighted_unifrac_dm.txt\"\n",
      "weighted_dm_fp = \"run_1_weighted_unifrac_dm.txt\"\n",
      "master_mapping_fp = \"master_period_1-2-3_map_5182014.txt\"\n",
      "\n",
      "# these files don't need to be in the gist\n",
      "flagstaff_tp21_22_unweighted_dm_fp = \"flagstaff_tp21_22_unweighted_unifrac_dm.txt\"\n",
      "flagstaff_tp40_41_unweighted_dm_fp = \"flagstaff_tp40_41_unweighted_unifrac_dm.txt\"\n",
      "flagstaff_tp21_22_weighted_dm_fp = \"flagstaff_tp21_22_weighted_unifrac_dm.txt\"\n",
      "flagstaff_tp40_41_weighted_dm_fp = \"flagstaff_tp40_41_weighted_unifrac_dm.txt\""
     ],
     "language": "python",
     "metadata": {},
     "outputs": []
    },
    {
     "cell_type": "heading",
     "level": 2,
     "metadata": {},
     "source": [
      "Find largest distances between sampling period 1 end and period 2 start "
     ]
    },
    {
     "cell_type": "code",
     "collapsed": false,
     "input": [
      "!filter_distance_matrix.py -i $unweighted_dm_fp -o $flagstaff_tp21_22_unweighted_dm_fp -m $master_mapping_fp -s \"City:flagstaff;TimePoint:21,22\"\n",
      "!filter_distance_matrix.py -i $weighted_dm_fp -o $flagstaff_tp21_22_weighted_dm_fp -m $master_mapping_fp -s \"City:flagstaff;TimePoint:21,22\""
     ],
     "language": "python",
     "metadata": {},
     "outputs": []
    },
    {
     "cell_type": "code",
     "collapsed": false,
     "input": [
      "!compare_distance_matrices.py --method mantel -i $flagstaff_tp21_22_unweighted_dm_fp,$flagstaff_tp21_22_weighted_dm_fp  -o mantel_out -n 999"
     ],
     "language": "python",
     "metadata": {},
     "outputs": []
    },
    {
     "cell_type": "code",
     "collapsed": false,
     "input": [
      "!cat mantel_out/mantel_results.txt"
     ],
     "language": "python",
     "metadata": {},
     "outputs": []
    },
    {
     "cell_type": "code",
     "collapsed": false,
     "input": [
      "from qiime.group import get_grouped_distances \n",
      "from qiime.parse import parse_distmat, parse_mapping_file\n",
      "\n",
      "dist_matrix_header, dist_matrix = parse_distmat(open(flagstaff_tp21_22_unweighted_dm_fp,'U'))\n",
      "mapping, mapping_header, _ = parse_mapping_file(open(master_mapping_fp,'U'))"
     ],
     "language": "python",
     "metadata": {},
     "outputs": []
    },
    {
     "cell_type": "code",
     "collapsed": false,
     "input": [
      "r = get_grouped_distances(dist_matrix_header, dist_matrix,\n",
      "                                mapping_header, mapping, field='SiteIdentifier')\n",
      "distance_to_site_identifier_tp21_22 = [(e[2][0], e[0]) for e in r]\n",
      "distance_to_site_identifier_tp21_22.sort()\n",
      "for e in distance_to_site_identifier_tp21_22:\n",
      "    print e\n"
     ],
     "language": "python",
     "metadata": {},
     "outputs": []
    },
    {
     "cell_type": "code",
     "collapsed": false,
     "input": [
      "print len(distance_to_site_identifier_tp21_22)"
     ],
     "language": "python",
     "metadata": {},
     "outputs": []
    },
    {
     "cell_type": "code",
     "collapsed": false,
     "input": [
      "to_resequence_distance_to_site_identifier_tp21_22 = [distance_to_site_identifier_tp21_22[i] for i in range(0,30,3)]\n",
      "for e in to_resequence_distance_to_site_identifier_tp21_22:\n",
      "    print e\n",
      "print len(to_resequence_distance_to_site_identifier_tp21_22)"
     ],
     "language": "python",
     "metadata": {},
     "outputs": []
    },
    {
     "cell_type": "heading",
     "level": 2,
     "metadata": {},
     "source": [
      "Find largest distances between sampling period 2 end and period 3 start "
     ]
    },
    {
     "cell_type": "code",
     "collapsed": false,
     "input": [
      "!filter_distance_matrix.py -i $unweighted_dm_fp -o $flagstaff_tp40_41_unweighted_dm_fp -m $master_mapping_fp -s \"City:flagstaff;TimePoint:40,41\"\n",
      "!filter_distance_matrix.py -i $weighted_dm_fp -o $flagstaff_tp40_41_weighted_dm_fp -m $master_mapping_fp -s \"City:flagstaff;TimePoint:40,41\""
     ],
     "language": "python",
     "metadata": {},
     "outputs": []
    },
    {
     "cell_type": "code",
     "collapsed": false,
     "input": [
      "!compare_distance_matrices.py --method mantel -i $flagstaff_tp40_41_unweighted_dm_fp,$flagstaff_tp40_41_weighted_dm_fp  -o mantel_out -n 999"
     ],
     "language": "python",
     "metadata": {},
     "outputs": []
    },
    {
     "cell_type": "code",
     "collapsed": false,
     "input": [
      "!cat mantel_out/mantel_results.txt"
     ],
     "language": "python",
     "metadata": {},
     "outputs": []
    },
    {
     "cell_type": "code",
     "collapsed": false,
     "input": [
      "from qiime.group import get_grouped_distances \n",
      "from qiime.parse import parse_distmat, parse_mapping_file\n",
      "\n",
      "dist_matrix_header, dist_matrix = parse_distmat(open(flagstaff_tp40_41_unweighted_dm_fp,'U'))\n",
      "mapping, mapping_header, _ = parse_mapping_file(open(master_mapping_fp,'U'))"
     ],
     "language": "python",
     "metadata": {},
     "outputs": []
    },
    {
     "cell_type": "code",
     "collapsed": false,
     "input": [
      "r = get_grouped_distances(dist_matrix_header, dist_matrix,\n",
      "                                mapping_header, mapping, field='SiteIdentifier')\n",
      "distance_to_site_identifier_tp40_41 = [(e[2][0], e[0]) for e in r]\n",
      "distance_to_site_identifier_tp40_41.sort()\n",
      "for e in distance_to_site_identifier_tp40_41:\n",
      "    print e\n"
     ],
     "language": "python",
     "metadata": {},
     "outputs": []
    },
    {
     "cell_type": "code",
     "collapsed": false,
     "input": [
      "from cogent.maths.stats.test import mc_t_two_sample"
     ],
     "language": "python",
     "metadata": {},
     "outputs": []
    },
    {
     "cell_type": "code",
     "collapsed": false,
     "input": [
      "obs_t, param_p_val, perm_t_stats, nonparam_p_val = mc_t_two_sample([e[0] for e in to_resequence_distance_to_site_identifier_tp21_22], [e[0] for e in distance_to_site_identifier_tp40_41], tails='high')\n",
      "print obs_t, param_p_val, nonparam_p_val"
     ],
     "language": "python",
     "metadata": {},
     "outputs": []
    },
    {
     "cell_type": "markdown",
     "metadata": {},
     "source": [
      "So, the samples that we want to include in the next sequencing run are these. The question we want to answer is *is the distribution of distances between between samples from the end of sampling period 1 and the beginning of sampling period two smaller when those samples are sequenced on the same sequencing run, relative to when they are sequenced on different sequencing runs.* Here, we show that the distances between the end of sampling run 1 and the beginning of sampling run 2 are larger than the distances between the end of sampling run 2 and the beginning of sampling run 3 (just as a sanity check to make sure that the differences we're seeing aren't what we expect because a large amount of time has elapsed between sampling events)."
     ]
    },
    {
     "cell_type": "code",
     "collapsed": false,
     "input": [
      "for e in to_resequence_distance_to_site_identifier_tp21_22:\n",
      "    print e[1] + '.021'\n",
      "    print e[1] + '.022'"
     ],
     "language": "python",
     "metadata": {},
     "outputs": []
    },
    {
     "cell_type": "markdown",
     "metadata": {},
     "source": [
      "We don't want to choose the same sample ids that we have between samples that we have for sampling periods 2 and 3 because we don't observe a significant difference between those samples between sampling periods 1 and 2."
     ]
    },
    {
     "cell_type": "code",
     "collapsed": false,
     "input": [
      "distance_to_site_identifier_tp21_22_same_sids = [e for e in distance_to_site_identifier_tp21_22 if e[1] in dict(distance_to_site_identifier_tp40_41).values()]\n"
     ],
     "language": "python",
     "metadata": {},
     "outputs": []
    },
    {
     "cell_type": "code",
     "collapsed": false,
     "input": [
      "obs_t, param_p_val, perm_t_stats, nonparam_p_val = mc_t_two_sample([e[0] for e in distance_to_site_identifier_tp21_22_same_sids], [e[0] for e in distance_to_site_identifier_tp40_41], tails='high')\n",
      "print obs_t, param_p_val, nonparam_p_val"
     ],
     "language": "python",
     "metadata": {},
     "outputs": []
    },
    {
     "cell_type": "heading",
     "level": 2,
     "metadata": {},
     "source": [
      "Are distances different between timepoints one and two over different sequencing runs"
     ]
    },
    {
     "cell_type": "code",
     "collapsed": false,
     "input": [
      "from qiime.group import get_grouped_distances \n",
      "from qiime.parse import parse_distmat, parse_mapping_file\n",
      "\n",
      "#Run 1 (actually from two different runs)\n",
      "run_1_unweighted_dm = \"run_1_unweighted_unifrac_dm.txt\"\n",
      "run_1_weighted_dm = \"run_1_weighted_unifrac_dm.txt\"\n",
      "\n",
      "#Run 2 distance matrices are already filtered\n",
      "run_2_unweighted_dm = \"bdiv_even5000/unweighted_unifrac_otu_table_mc2_w_tax_no_pynast_failures_even5000.txt\"\n",
      "run_2_weighted_dm = \"bdiv_even5000/weighted_unifrac_otu_table_mc2_w_tax_no_pynast_failures_even5000.txt\"\n",
      "\n",
      "#filtered otu table created for the control samples\n",
      "otu_table = \"bdiv_even5000/otu_table_mc2_w_tax_no_pynast_failures_even5000.biom\"\n",
      "map_fp = \"master_period_1-2-3_map_5182014.txt\"\n",
      "\n",
      "#Output paths\n",
      "run_1_unweighted_filtered_dm = \"run_1_unweighted_filtered_dm.txt\"\n",
      "run_1_weighted_filtered_dm = \"run_1_weighted_filtered_dm.txt\"\n",
      "\n"
     ],
     "language": "python",
     "metadata": {},
     "outputs": []
    },
    {
     "cell_type": "code",
     "collapsed": false,
     "input": [
      "!filter_distance_matrix.py -i $run_1_unweighted_dm -o $run_1_unweighted_filtered_dm -t $otu_table\n",
      "!filter_distance_matrix.py -i $run_1_weighted_dm -o $run_1_weighted_filtered_dm -t $otu_table"
     ],
     "language": "python",
     "metadata": {},
     "outputs": []
    },
    {
     "cell_type": "heading",
     "level": 2,
     "metadata": {},
     "source": [
      "Unweighted unifrac analysis"
     ]
    },
    {
     "cell_type": "code",
     "collapsed": false,
     "input": [
      "print '\\n'.join(dist_matrix_header_1)"
     ],
     "language": "python",
     "metadata": {},
     "outputs": []
    },
    {
     "cell_type": "code",
     "collapsed": false,
     "input": [
      "dist_matrix_header_1, dist_matrix_1 = parse_distmat(open(run_1_unweighted_filtered_dm,'U'))\n",
      "dist_matrix_header_2, dist_matrix_2 = parse_distmat(open(run_2_unweighted_dm,'U'))\n",
      "mapping, mapping_header, _ = parse_mapping_file(open(map_fp,'U'))"
     ],
     "language": "python",
     "metadata": {},
     "outputs": []
    },
    {
     "cell_type": "code",
     "collapsed": false,
     "input": [
      "r = get_grouped_distances(dist_matrix_header_1, dist_matrix_1,\n",
      "                                mapping_header, mapping, field='SiteIdentifier')\n",
      "distance_to_site_identifier_run1 = [(e[2][0], e[0]) for e in r]\n",
      "distance_to_site_identifier_run1.sort()\n",
      "for e in distance_to_site_identifier_run1:\n",
      "    print e\n",
      "print len(distance_to_site_identifier_run1)"
     ],
     "language": "python",
     "metadata": {},
     "outputs": []
    },
    {
     "cell_type": "code",
     "collapsed": false,
     "input": [
      "r = get_grouped_distances(dist_matrix_header_2, dist_matrix_2,\n",
      "                                mapping_header, mapping, field='SiteIdentifier')\n",
      "distance_to_site_identifier_run2 = [(e[2][0], e[0]) for e in r]\n",
      "distance_to_site_identifier_run2.sort()\n",
      "for e in distance_to_site_identifier_run2:\n",
      "    print e\n",
      "print len(distance_to_site_identifier_run2)"
     ],
     "language": "python",
     "metadata": {},
     "outputs": []
    },
    {
     "cell_type": "code",
     "collapsed": false,
     "input": [
      "from cogent.maths.stats.test import mc_t_two_sample\n",
      "obs_t, param_p_val, perm_t_stats, nonparam_p_val = mc_t_two_sample([e[0] for e in distance_to_site_identifier_run1],\n",
      "                                                                   [e[0] for e in distance_to_site_identifier_run2])\n",
      "print obs_t, param_p_val, nonparam_p_val"
     ],
     "language": "python",
     "metadata": {},
     "outputs": []
    },
    {
     "cell_type": "code",
     "collapsed": false,
     "input": [
      "r = get_grouped_distances(dist_matrix_header_2, dist_matrix_2,\n",
      "                                mapping_header, mapping, field='SiteIdentifier')\n",
      "site_identifier_to_distance_run2 = {e[0]: e[2][0] for e in r}\n",
      "\n",
      "r = get_grouped_distances(dist_matrix_header_1, dist_matrix_1,\n",
      "                                mapping_header, mapping, field='SiteIdentifier')\n",
      "site_identifier_to_distance_run1 = {e[0]: e[2][0] for e in r}\n",
      "\n",
      "ordered_keys = site_identifier_to_distance_run1.keys()\n",
      "\n",
      "from cogent.maths.stats.test import correlation_test\n",
      "\n",
      "corr_coeff, _, _, nonparametric_p_val, _ = correlation_test(\n",
      "    [site_identifier_to_distance_run1[k] for k in ordered_keys],\n",
      "    [site_identifier_to_distance_run2[k] for k in ordered_keys])\n",
      "print corr_coeff, nonparametric_p_val\n",
      "\n",
      "from pylab import scatter\n",
      "%pylab inline\n",
      "# x-axis is \"run1\" data\n",
      "scatter([site_identifier_to_distance_run1[k] for k in ordered_keys],\n",
      "     [site_identifier_to_distance_run2[k] for k in ordered_keys])"
     ],
     "language": "python",
     "metadata": {},
     "outputs": []
    },
    {
     "cell_type": "markdown",
     "metadata": {},
     "source": [
      "use a mantel test to test the correlation of the dms. compare distance matrices."
     ]
    },
    {
     "cell_type": "code",
     "collapsed": false,
     "input": [
      "mantel_out = \"unweighted_unifrac_mantel_out\"\n",
      "!compare_distance_matrices.py -i $run_1_unweighted_filtered_dm,$run_2_unweighted_dm -o $mantel_out --method mantel -n 999\n",
      "!cat $mantel_out/mantel_results.txt"
     ],
     "language": "python",
     "metadata": {},
     "outputs": []
    },
    {
     "cell_type": "heading",
     "level": 2,
     "metadata": {},
     "source": [
      "weighted unifrac analyses"
     ]
    },
    {
     "cell_type": "code",
     "collapsed": false,
     "input": [
      "dist_matrix_header_1, dist_matrix_1 = parse_distmat(open(run_1_weighted_filtered_dm,'U'))\n",
      "dist_matrix_header_2, dist_matrix_2 = parse_distmat(open(run_2_weighted_dm,'U'))"
     ],
     "language": "python",
     "metadata": {},
     "outputs": []
    },
    {
     "cell_type": "code",
     "collapsed": false,
     "input": [
      "r = get_grouped_distances(dist_matrix_header_1, dist_matrix_1,\n",
      "                                mapping_header, mapping, field='SiteIdentifier')\n",
      "distance_to_site_identifier_run1 = [(e[2][0], e[0]) for e in r]\n",
      "distance_to_site_identifier_run1.sort()\n",
      "for e in distance_to_site_identifier_run1:\n",
      "    print e\n",
      "print len(distance_to_site_identifier_run1)"
     ],
     "language": "python",
     "metadata": {},
     "outputs": []
    },
    {
     "cell_type": "code",
     "collapsed": false,
     "input": [
      "r = get_grouped_distances(dist_matrix_header_2, dist_matrix_2,\n",
      "                                mapping_header, mapping, field='SiteIdentifier')\n",
      "distance_to_site_identifier_run2 = [(e[2][0], e[0]) for e in r]\n",
      "distance_to_site_identifier_run2.sort()\n",
      "for e in distance_to_site_identifier_run2:\n",
      "    print e\n",
      "print len(distance_to_site_identifier_run2)"
     ],
     "language": "python",
     "metadata": {},
     "outputs": []
    },
    {
     "cell_type": "code",
     "collapsed": false,
     "input": [
      "from cogent.maths.stats.test import mc_t_two_sample\n",
      "obs_t, param_p_val, perm_t_stats, nonparam_p_val = mc_t_two_sample([e[0] for e in distance_to_site_identifier_run1], \n",
      "                                                                   [e[0] for e in distance_to_site_identifier_run2])\n",
      "print obs_t, param_p_val, nonparam_p_val"
     ],
     "language": "python",
     "metadata": {},
     "outputs": []
    },
    {
     "cell_type": "code",
     "collapsed": false,
     "input": [
      "r = get_grouped_distances(dist_matrix_header_1, dist_matrix_1,\n",
      "                                mapping_header, mapping, field='SiteIdentifier')\n",
      "site_identifier_to_distance_run1 = {e[0]: e[2][0] for e in r}\n",
      "\n",
      "r = get_grouped_distances(dist_matrix_header_2, dist_matrix_2,\n",
      "                                mapping_header, mapping, field='SiteIdentifier')\n",
      "site_identifier_to_distance_run2 = {e[0]: e[2][0] for e in r}\n",
      "\n",
      "ordered_keys = site_identifier_to_distance_run1.keys()\n",
      "\n",
      "from cogent.maths.stats.test import correlation_test\n",
      "\n",
      "corr_coeff, _, _, nonparametric_p_val, _ = correlation_test(\n",
      "    [site_identifier_to_distance_run1[k] for k in ordered_keys],\n",
      "    [site_identifier_to_distance_run2[k] for k in ordered_keys])\n",
      "print corr_coeff, nonparametric_p_val\n",
      "\n",
      "from pylab import scatter\n",
      "%pylab inline\n",
      "# x-axis is \"run1\" data\n",
      "scatter([site_identifier_to_distance_run1[k] for k in ordered_keys],\n",
      "     [site_identifier_to_distance_run2[k] for k in ordered_keys])"
     ],
     "language": "python",
     "metadata": {},
     "outputs": []
    },
    {
     "cell_type": "code",
     "collapsed": false,
     "input": [
      "mantel_out = \"weighted_unifrac_mantel_out\"\n",
      "!compare_distance_matrices.py -i $run_1_weighted_filtered_dm,$run_2_weighted_dm -o $mantel_out --method mantel -n 999\n",
      "!cat $mantel_out/mantel_results.txt"
     ],
     "language": "python",
     "metadata": {},
     "outputs": []
    },
    {
     "cell_type": "heading",
     "level": 1,
     "metadata": {},
     "source": [
      "Checking for problems after filtering low abundance OTUs..."
     ]
    },
    {
     "cell_type": "markdown",
     "metadata": {},
     "source": [
      "From history, working on bacon in: ``/home/johnchase/code/office-succession/periods_all/control_data/pick_otus_out``\n",
      "\n",
      "```bash\n",
      "\n",
      "filter_samples_from_otu_table.py -i ../../../periods_all/pick_iterotus_out/otu_table_mc2_w_tax_no_pynast_failures.biom -o original_otu_table_full.biom --sample_id_fp sample_ids.txt\n",
      "\n",
      "biom summarize-table -i original_otu_table_full.biom -o original_otu_table_full_summ.txt\n",
      "\n",
      "filter_otus_from_otu_table.py -i original_otu_table_full.biom -o original_otu_table_full_mcfrac00005.biom --min_count_fraction 0.00005\n",
      "\n",
      "biom summarize-table -i original_otu_table_full_mcfrac00005.biom -o original_otu_table_full_mcfrac00005_summ.txt\n",
      "\n",
      "filter_otus_from_otu_table.py -i otu_table_mc2_w_tax_no_pynast_failures.biom -o otu_table_mc2_w_tax_no_pynast_failures_mcfrac00005.biom --min_count_fraction 0.00005\n",
      "\n",
      "biom summarize-table -i otu_table_mc2_w_tax_no_pynast_failures_mcfrac00005.biom -o otu_table_mc2_w_tax_no_pynast_failures_mcfrac00005_summ.txt\n",
      "\n",
      "biom summarize-table -i otu_table_mc2_w_tax_no_pynast_failures.biom -o otu_table_mc2_w_tax_no_pynast_failures_summ.txt\n",
      "\n",
      "single_rarefaction.py -i original_otu_table_full_mcfrac00005.biom -o original_otu_table_full_mcfrac00005_even3298.biom -d 3298\n",
      "\n",
      "single_rarefaction.py -i otu_table_mc2_w_tax_no_pynast_failures_mcfrac00005.biom -o otu_table_mc2_w_tax_no_pynast_failures_mcfrac00005_even3298.biom -d 3298\n",
      "\n",
      "beta_diversity.py -i otu_table_mc2_w_tax_no_pynast_failures_mcfrac00005_even3298.biom -o bdiv_mcfrac00005_even3298 -t rep_set.tre\n",
      "```"
     ]
    },
    {
     "cell_type": "code",
     "collapsed": false,
     "input": [
      "from qiime.group import get_grouped_distances \n",
      "from qiime.parse import parse_distmat, parse_mapping_file\n",
      "\n",
      "run1_unweighted_dm = 'bdiv_mcfrac00005_even3298/unweighted_unifrac_original_otu_table_full_mcfrac00005_even3298.txt'\n",
      "run2_unweighted_dm = 'bdiv_mcfrac00005_even3298/unweighted_unifrac_otu_table_mc2_w_tax_no_pynast_failures_mcfrac00005_even3298.txt'\n",
      "\n",
      "run1_weighted_dm = 'bdiv_mcfrac00005_even3298/weighted_unifrac_original_otu_table_full_mcfrac00005_even3298.txt'\n",
      "run2_weighted_dm = 'bdiv_mcfrac00005_even3298/weighted_unifrac_otu_table_mc2_w_tax_no_pynast_failures_mcfrac00005_even3298.txt'\n",
      "\n",
      "map_fp = \"master_period_1-2-3_map_5182014.txt\"\n",
      "mapping, mapping_header, _ = parse_mapping_file(open(map_fp,'U'))\n"
     ],
     "language": "python",
     "metadata": {},
     "outputs": [],
     "prompt_number": 1
    },
    {
     "cell_type": "heading",
     "level": 2,
     "metadata": {},
     "source": [
      "unweighted unifrac analysis"
     ]
    },
    {
     "cell_type": "code",
     "collapsed": false,
     "input": [
      "dist_matrix_header_1, dist_matrix_1 = parse_distmat(open(run1_unweighted_dm,'U'))\n",
      "dist_matrix_header_2, dist_matrix_2 = parse_distmat(open(run2_unweighted_dm,'U'))"
     ],
     "language": "python",
     "metadata": {},
     "outputs": [],
     "prompt_number": 2
    },
    {
     "cell_type": "code",
     "collapsed": false,
     "input": [
      "r = get_grouped_distances(dist_matrix_header_1, dist_matrix_1,\n",
      "                                mapping_header, mapping, field='SiteIdentifier')\n",
      "distance_to_site_identifier_run1 = [(e[2][0], e[0]) for e in r]\n",
      "distance_to_site_identifier_run1.sort()\n",
      "for e in distance_to_site_identifier_run1:\n",
      "    print e\n",
      "print len(distance_to_site_identifier_run1)"
     ],
     "language": "python",
     "metadata": {},
     "outputs": [
      {
       "output_type": "stream",
       "stream": "stdout",
       "text": [
        "(0.45211559928, 'F2F.2.Ce')\n",
        "(0.453086246947, 'F2F.3.Ce')\n",
        "(0.59643391328999995, 'F2W.2.Ca')\n",
        "(0.651299335965, 'F3W.2.Ce')\n",
        "(0.66952048001999998, 'F1C.3.Dr')\n",
        "(0.67021113434199997, 'F1W.3.Dr')\n",
        "(0.70389910533300004, 'F2W.2.Ce')\n",
        "(0.73084669102300004, 'F1F.3.Ca')\n",
        "(0.73751589132499995, 'F1W.2.Ce')\n",
        "(0.76541395686900005, 'F1C.3.Ca')\n",
        "10\n"
       ]
      }
     ],
     "prompt_number": 3
    },
    {
     "cell_type": "code",
     "collapsed": false,
     "input": [
      "r = get_grouped_distances(dist_matrix_header_2, dist_matrix_2,\n",
      "                                mapping_header, mapping, field='SiteIdentifier')\n",
      "distance_to_site_identifier_run2 = [(e[2][0], e[0]) for e in r]\n",
      "distance_to_site_identifier_run2.sort()\n",
      "for e in distance_to_site_identifier_run2:\n",
      "    print e\n",
      "print len(distance_to_site_identifier_run2)"
     ],
     "language": "python",
     "metadata": {},
     "outputs": [
      {
       "output_type": "stream",
       "stream": "stdout",
       "text": [
        "(0.52118002316599998, 'F2F.2.Ce')\n",
        "(0.69519381575999994, 'F2W.2.Ca')\n",
        "(0.72120245950399997, 'F1C.3.Dr')\n",
        "(0.73460149411700004, 'F3W.2.Ce')\n",
        "(0.78605860919799997, 'F2W.2.Ce')\n",
        "(0.788751616978, 'F1F.3.Ca')\n",
        "(0.85277374897000002, 'F1W.2.Ce')\n",
        "(0.857571486848, 'F1W.3.Dr')\n",
        "(0.91606843971499996, 'F2F.3.Ce')\n",
        "9\n"
       ]
      }
     ],
     "prompt_number": 4
    },
    {
     "cell_type": "code",
     "collapsed": false,
     "input": [
      "from cogent.maths.stats.test import mc_t_two_sample\n",
      "obs_t, param_p_val, perm_t_stats, nonparam_p_val = mc_t_two_sample([e[0] for e in distance_to_site_identifier_run1], \n",
      "                                                                   [e[0] for e in distance_to_site_identifier_run2])\n",
      "print obs_t, param_p_val, nonparam_p_val"
     ],
     "language": "python",
     "metadata": {},
     "outputs": [
      {
       "output_type": "stream",
       "stream": "stdout",
       "text": [
        "-2.31520321081 0.0333580276728 0.028\n"
       ]
      }
     ],
     "prompt_number": 5
    },
    {
     "cell_type": "code",
     "collapsed": false,
     "input": [
      "r = get_grouped_distances(dist_matrix_header_1, dist_matrix_1,\n",
      "                                mapping_header, mapping, field='SiteIdentifier')\n",
      "site_identifier_to_distance_run1 = {e[0]: e[2][0] for e in r}\n",
      "\n",
      "r = get_grouped_distances(dist_matrix_header_2, dist_matrix_2,\n",
      "                                mapping_header, mapping, field='SiteIdentifier')\n",
      "site_identifier_to_distance_run2 = {e[0]: e[2][0] for e in r}\n",
      "\n",
      "ordered_keys = list(set(site_identifier_to_distance_run1.keys()) & set(site_identifier_to_distance_run2.keys()))\n",
      "\n",
      "from cogent.maths.stats.test import correlation_test\n",
      "\n",
      "corr_coeff, _, _, nonparametric_p_val, _ = correlation_test(\n",
      "    [site_identifier_to_distance_run1[k] for k in ordered_keys],\n",
      "    [site_identifier_to_distance_run2[k] for k in ordered_keys])\n",
      "print corr_coeff, nonparametric_p_val\n",
      "\n",
      "from pylab import scatter\n",
      "%pylab inline\n",
      "# x-axis is \"run1\" data\n",
      "scatter([site_identifier_to_distance_run1[k] for k in ordered_keys],\n",
      "     [site_identifier_to_distance_run2[k] for k in ordered_keys])"
     ],
     "language": "python",
     "metadata": {},
     "outputs": [
      {
       "output_type": "stream",
       "stream": "stdout",
       "text": [
        "0.334205252082 0.363\n",
        "Populating the interactive namespace from numpy and matplotlib"
       ]
      },
      {
       "output_type": "stream",
       "stream": "stdout",
       "text": [
        "\n"
       ]
      },
      {
       "output_type": "stream",
       "stream": "stderr",
       "text": [
        "WARNING: pylab import has clobbered these variables: ['e']\n",
        "`%matplotlib` prevents importing * from pylab and numpy\n"
       ]
      },
      {
       "metadata": {},
       "output_type": "pyout",
       "prompt_number": 6,
       "text": [
        "<matplotlib.collections.PathCollection at 0x112e82610>"
       ]
      },
      {
       "metadata": {},
       "output_type": "display_data",
       "png": "[encoded data removed]",
       "text": [
        "<matplotlib.figure.Figure at 0x112d2fc90>"
       ]
      }
     ],
     "prompt_number": 6
    },
    {
     "cell_type": "code",
     "collapsed": false,
     "input": [
      "mantel_out = \"unweighted_unifrac_mantel_out\"\n",
      "!compare_distance_matrices.py -i $run1_unweighted_dm,$run2_unweighted_dm -o $mantel_out --method mantel -n 999\n",
      "!cat $mantel_out/mantel_results.txt"
     ],
     "language": "python",
     "metadata": {},
     "outputs": [
      {
       "output_type": "stream",
       "stream": "stdout",
       "text": [
        "# Number of entries refers to the number of rows (or cols) retained in each\r\n",
        "# distance matrix after filtering the distance matrices to include only those\r\n",
        "# samples that were in both distance matrices. p-value contains the correct\r\n",
        "# number of significant digits.\r\n",
        "DM1\tDM2\tNumber of entries\tMantel r statistic\tp-value\tNumber of permutations\tTail type\r\n",
        "bdiv_mcfrac00005_even3298/unweighted_unifrac_original_otu_table_full_mcfrac00005_even3298.txt\tbdiv_mcfrac00005_even3298/unweighted_unifrac_otu_table_mc2_w_tax_no_pynast_failures_mcfrac00005_even3298.txt\t19\t0.39818\t0.001\t999\ttwo sided\r\n"
       ]
      }
     ],
     "prompt_number": 7
    },
    {
     "cell_type": "heading",
     "level": 2,
     "metadata": {},
     "source": [
      "weighted unifrac analysis"
     ]
    },
    {
     "cell_type": "code",
     "collapsed": false,
     "input": [
      "dist_matrix_header_1, dist_matrix_1 = parse_distmat(open(run1_weighted_dm,'U'))\n",
      "dist_matrix_header_2, dist_matrix_2 = parse_distmat(open(run2_weighted_dm,'U'))"
     ],
     "language": "python",
     "metadata": {},
     "outputs": [],
     "prompt_number": 8
    },
    {
     "cell_type": "code",
     "collapsed": false,
     "input": [
      "r = get_grouped_distances(dist_matrix_header_1, dist_matrix_1,\n",
      "                                mapping_header, mapping, field='SiteIdentifier')\n",
      "distance_to_site_identifier_run1 = [(e[2][0], e[0]) for e in r]\n",
      "distance_to_site_identifier_run1.sort()\n",
      "for e in distance_to_site_identifier_run1:\n",
      "    print e\n",
      "print len(distance_to_site_identifier_run1)"
     ],
     "language": "python",
     "metadata": {},
     "outputs": [
      {
       "output_type": "stream",
       "stream": "stdout",
       "text": [
        "(0.23445948404899999, 'F2F.3.Ce')\n",
        "(0.32009177873900002, 'F2F.2.Ce')\n",
        "(0.39648569324400001, 'F2W.2.Ca')\n",
        "(0.50594299659200004, 'F2W.2.Ce')\n",
        "(0.52028103878999998, 'F3W.2.Ce')\n",
        "(0.57993048578499995, 'F1F.3.Ca')\n",
        "(0.587910870852, 'F1W.3.Dr')\n",
        "(0.62306974690500005, 'F1W.2.Ce')\n",
        "(0.65373086021000004, 'F1C.3.Dr')\n",
        "(0.66623088106399997, 'F1C.3.Ca')\n",
        "10\n"
       ]
      }
     ],
     "prompt_number": 9
    },
    {
     "cell_type": "code",
     "collapsed": false,
     "input": [
      "r = get_grouped_distances(dist_matrix_header_2, dist_matrix_2,\n",
      "                                mapping_header, mapping, field='SiteIdentifier')\n",
      "distance_to_site_identifier_run2 = [(e[2][0], e[0]) for e in r]\n",
      "distance_to_site_identifier_run2.sort()\n",
      "for e in distance_to_site_identifier_run2:\n",
      "    print e\n",
      "print len(distance_to_site_identifier_run2)"
     ],
     "language": "python",
     "metadata": {},
     "outputs": [
      {
       "output_type": "stream",
       "stream": "stdout",
       "text": [
        "(0.25200807762299998, 'F2F.2.Ce')\n",
        "(0.40319136143099998, 'F1F.3.Ca')\n",
        "(0.41941901152200001, 'F2W.2.Ca')\n",
        "(0.46016367495499999, 'F1C.3.Dr')\n",
        "(0.50876787446899996, 'F3W.2.Ce')\n",
        "(0.518185269861, 'F2W.2.Ce')\n",
        "(0.53125204669500004, 'F2F.3.Ce')\n",
        "(0.58344153123099995, 'F1W.3.Dr')\n",
        "(0.60763237113400004, 'F1W.2.Ce')\n",
        "9\n"
       ]
      }
     ],
     "prompt_number": 10
    },
    {
     "cell_type": "code",
     "collapsed": false,
     "input": [
      "from cogent.maths.stats.test import mc_t_two_sample\n",
      "obs_t, param_p_val, perm_t_stats, nonparam_p_val = mc_t_two_sample([e[0] for e in distance_to_site_identifier_run1], \n",
      "                                                                   [e[0] for e in distance_to_site_identifier_run2])\n",
      "print obs_t, param_p_val, nonparam_p_val"
     ],
     "language": "python",
     "metadata": {},
     "outputs": [
      {
       "output_type": "stream",
       "stream": "stdout",
       "text": [
        "0.549052995028 0.590108731034 0.58\n"
       ]
      }
     ],
     "prompt_number": 11
    },
    {
     "cell_type": "code",
     "collapsed": false,
     "input": [
      "r = get_grouped_distances(dist_matrix_header_1, dist_matrix_1,\n",
      "                                mapping_header, mapping, field='SiteIdentifier')\n",
      "site_identifier_to_distance_run1 = {e[0]: e[2][0] for e in r}\n",
      "\n",
      "r = get_grouped_distances(dist_matrix_header_2, dist_matrix_2,\n",
      "                                mapping_header, mapping, field='SiteIdentifier')\n",
      "site_identifier_to_distance_run2 = {e[0]: e[2][0] for e in r}\n",
      "\n",
      "ordered_keys = list(set(site_identifier_to_distance_run1.keys()) & set(site_identifier_to_distance_run2.keys()))\n",
      "\n",
      "from cogent.maths.stats.test import correlation_test\n",
      "\n",
      "corr_coeff, _, _, nonparametric_p_val, _ = correlation_test(\n",
      "    [site_identifier_to_distance_run1[k] for k in ordered_keys],\n",
      "    [site_identifier_to_distance_run2[k] for k in ordered_keys])\n",
      "print corr_coeff, nonparametric_p_val\n",
      "\n",
      "from pylab import scatter\n",
      "%pylab inline\n",
      "# x-axis is \"run1\" data\n",
      "scatter([site_identifier_to_distance_run1[k] for k in ordered_keys],\n",
      "     [site_identifier_to_distance_run2[k] for k in ordered_keys])"
     ],
     "language": "python",
     "metadata": {},
     "outputs": [
      {
       "output_type": "stream",
       "stream": "stdout",
       "text": [
        "0.398909709925 0.312\n",
        "Populating the interactive namespace from numpy and matplotlib\n"
       ]
      },
      {
       "output_type": "stream",
       "stream": "stderr",
       "text": [
        "WARNING: pylab import has clobbered these variables: ['e']\n",
        "`%matplotlib` prevents importing * from pylab and numpy\n"
       ]
      },
      {
       "metadata": {},
       "output_type": "pyout",
       "prompt_number": 12,
       "text": [
        "<matplotlib.collections.PathCollection at 0x112f2fd10>"
       ]
      },
      {
       "metadata": {},
       "output_type": "display_data",
       "png": "[encoded data removed]",
       "text": [
        "<matplotlib.figure.Figure at 0x10f3c5390>"
       ]
      }
     ],
     "prompt_number": 12
    },
    {
     "cell_type": "code",
     "collapsed": false,
     "input": [
      "mantel_out = \"weighted_unifrac_mantel_out\"\n",
      "!compare_distance_matrices.py -i $run1_unweighted_dm,$run2_unweighted_dm -o $mantel_out --method mantel -n 999\n",
      "!cat $mantel_out/mantel_results.txt"
     ],
     "language": "python",
     "metadata": {},
     "outputs": [
      {
       "output_type": "stream",
       "stream": "stdout",
       "text": [
        "# Number of entries refers to the number of rows (or cols) retained in each\r\n",
        "# distance matrix after filtering the distance matrices to include only those\r\n",
        "# samples that were in both distance matrices. p-value contains the correct\r\n",
        "# number of significant digits.\r\n",
        "DM1\tDM2\tNumber of entries\tMantel r statistic\tp-value\tNumber of permutations\tTail type\r\n",
        "bdiv_mcfrac00005_even3298/unweighted_unifrac_original_otu_table_full_mcfrac00005_even3298.txt\tbdiv_mcfrac00005_even3298/unweighted_unifrac_otu_table_mc2_w_tax_no_pynast_failures_mcfrac00005_even3298.txt\t19\t0.39818\t0.001\t999\ttwo sided\r\n"
       ]
      }
     ],
     "prompt_number": 13
    },
    {
     "cell_type": "code",
     "collapsed": false,
     "input": [],
     "language": "python",
     "metadata": {},
     "outputs": []
    }
   ],
   "metadata": {}
  }
 ]
}