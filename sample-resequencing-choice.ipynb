{
 "metadata": {
  "name": "",
  "signature": "sha256:7dac811b16d0ea76bdcf81f75000f691f6e5cecc1c316f1829b434a4f7f2d06c"
 },
 "nbformat": 3,
 "nbformat_minor": 0,
 "worksheets": [
  {
   "cells": [
    {
     "cell_type": "code",
     "collapsed": false,
     "input": [
      "# these files do need to be in the gist\n",
      "unweighted_dm_fp = \"run_1_unweighted_unifrac_dm.txt\"\n",
      "weighted_dm_fp = \"run_1_weighted_unifrac_dm.txt\"\n",
      "master_mapping_fp = \"master_period_1-2-3_map_5182014.txt\"\n",
      "\n",
      "# these files don't need to be in the gist\n",
      "flagstaff_tp21_22_unweighted_dm_fp = \"flagstaff_tp21_22_unweighted_unifrac_dm.txt\"\n",
      "flagstaff_tp40_41_unweighted_dm_fp = \"flagstaff_tp40_41_unweighted_unifrac_dm.txt\"\n",
      "flagstaff_tp21_22_weighted_dm_fp = \"flagstaff_tp21_22_weighted_unifrac_dm.txt\"\n",
      "flagstaff_tp40_41_weighted_dm_fp = \"flagstaff_tp40_41_weighted_unifrac_dm.txt\""
     ],
     "language": "python",
     "metadata": {},
     "outputs": []
    },
    {
     "cell_type": "heading",
     "level": 2,
     "metadata": {},
     "source": [
      "Find largest distances between sampling period 1 end and period 2 start "
     ]
    },
    {
     "cell_type": "code",
     "collapsed": false,
     "input": [
      "!filter_distance_matrix.py -i $unweighted_dm_fp -o $flagstaff_tp21_22_unweighted_dm_fp -m $master_mapping_fp -s \"City:flagstaff;TimePoint:21,22\"\n",
      "!filter_distance_matrix.py -i $weighted_dm_fp -o $flagstaff_tp21_22_weighted_dm_fp -m $master_mapping_fp -s \"City:flagstaff;TimePoint:21,22\""
     ],
     "language": "python",
     "metadata": {},
     "outputs": []
    },
    {
     "cell_type": "code",
     "collapsed": false,
     "input": [
      "!compare_distance_matrices.py --method mantel -i $flagstaff_tp21_22_unweighted_dm_fp,$flagstaff_tp21_22_weighted_dm_fp  -o mantel_out -n 999"
     ],
     "language": "python",
     "metadata": {},
     "outputs": []
    },
    {
     "cell_type": "code",
     "collapsed": false,
     "input": [
      "!cat mantel_out/mantel_results.txt"
     ],
     "language": "python",
     "metadata": {},
     "outputs": []
    },
    {
     "cell_type": "code",
     "collapsed": false,
     "input": [
      "from qiime.group import get_grouped_distances \n",
      "from qiime.parse import parse_distmat, parse_mapping_file\n",
      "\n",
      "dist_matrix_header, dist_matrix = parse_distmat(open(flagstaff_tp21_22_unweighted_dm_fp,'U'))\n",
      "mapping, mapping_header, _ = parse_mapping_file(open(master_mapping_fp,'U'))"
     ],
     "language": "python",
     "metadata": {},
     "outputs": []
    },
    {
     "cell_type": "code",
     "collapsed": false,
     "input": [
      "r = get_grouped_distances(dist_matrix_header, dist_matrix,\n",
      "                                mapping_header, mapping, field='SiteIdentifier')\n",
      "distance_to_site_identifier_tp21_22 = [(e[2][0], e[0]) for e in r]\n",
      "distance_to_site_identifier_tp21_22.sort()\n",
      "for e in distance_to_site_identifier_tp21_22:\n",
      "    print e\n"
     ],
     "language": "python",
     "metadata": {},
     "outputs": []
    },
    {
     "cell_type": "code",
     "collapsed": false,
     "input": [
      "print len(distance_to_site_identifier_tp21_22)"
     ],
     "language": "python",
     "metadata": {},
     "outputs": []
    },
    {
     "cell_type": "code",
     "collapsed": false,
     "input": [
      "to_resequence_distance_to_site_identifier_tp21_22 = [distance_to_site_identifier_tp21_22[i] for i in range(0,30,3)]\n",
      "for e in to_resequence_distance_to_site_identifier_tp21_22:\n",
      "    print e\n",
      "print len(to_resequence_distance_to_site_identifier_tp21_22)"
     ],
     "language": "python",
     "metadata": {},
     "outputs": []
    },
    {
     "cell_type": "heading",
     "level": 2,
     "metadata": {},
     "source": [
      "Find largest distances between sampling period 2 end and period 3 start "
     ]
    },
    {
     "cell_type": "code",
     "collapsed": false,
     "input": [
      "!filter_distance_matrix.py -i $unweighted_dm_fp -o $flagstaff_tp40_41_unweighted_dm_fp -m $master_mapping_fp -s \"City:flagstaff;TimePoint:40,41\"\n",
      "!filter_distance_matrix.py -i $weighted_dm_fp -o $flagstaff_tp40_41_weighted_dm_fp -m $master_mapping_fp -s \"City:flagstaff;TimePoint:40,41\""
     ],
     "language": "python",
     "metadata": {},
     "outputs": []
    },
    {
     "cell_type": "code",
     "collapsed": false,
     "input": [
      "!compare_distance_matrices.py --method mantel -i $flagstaff_tp40_41_unweighted_dm_fp,$flagstaff_tp40_41_weighted_dm_fp  -o mantel_out -n 999"
     ],
     "language": "python",
     "metadata": {},
     "outputs": []
    },
    {
     "cell_type": "code",
     "collapsed": false,
     "input": [
      "!cat mantel_out/mantel_results.txt"
     ],
     "language": "python",
     "metadata": {},
     "outputs": []
    },
    {
     "cell_type": "code",
     "collapsed": false,
     "input": [
      "from qiime.group import get_grouped_distances \n",
      "from qiime.parse import parse_distmat, parse_mapping_file\n",
      "\n",
      "dist_matrix_header, dist_matrix = parse_distmat(open(flagstaff_tp40_41_unweighted_dm_fp,'U'))\n",
      "mapping, mapping_header, _ = parse_mapping_file(open(master_mapping_fp,'U'))"
     ],
     "language": "python",
     "metadata": {},
     "outputs": []
    },
    {
     "cell_type": "code",
     "collapsed": false,
     "input": [
      "r = get_grouped_distances(dist_matrix_header, dist_matrix,\n",
      "                                mapping_header, mapping, field='SiteIdentifier')\n",
      "distance_to_site_identifier_tp40_41 = [(e[2][0], e[0]) for e in r]\n",
      "distance_to_site_identifier_tp40_41.sort()\n",
      "for e in distance_to_site_identifier_tp40_41:\n",
      "    print e\n"
     ],
     "language": "python",
     "metadata": {},
     "outputs": []
    },
    {
     "cell_type": "code",
     "collapsed": false,
     "input": [
      "from cogent.maths.stats.test import mc_t_two_sample"
     ],
     "language": "python",
     "metadata": {},
     "outputs": []
    },
    {
     "cell_type": "code",
     "collapsed": false,
     "input": [
      "obs_t, param_p_val, perm_t_stats, nonparam_p_val = mc_t_two_sample([e[0] for e in to_resequence_distance_to_site_identifier_tp21_22], [e[0] for e in distance_to_site_identifier_tp40_41], tails='high')\n",
      "print obs_t, param_p_val, nonparam_p_val"
     ],
     "language": "python",
     "metadata": {},
     "outputs": []
    },
    {
     "cell_type": "markdown",
     "metadata": {},
     "source": [
      "So, the samples that we want to include in the next sequencing run are these. The question we want to answer is *is the distribution of distances between between samples from the end of sampling period 1 and the beginning of sampling period two smaller when those samples are sequenced on the same sequencing run, relative to when they are sequenced on different sequencing runs.* Here, we show that the distances between the end of sampling run 1 and the beginning of sampling run 2 are larger than the distances between the end of sampling run 2 and the beginning of sampling run 3 (just as a sanity check to make sure that the differences we're seeing aren't what we expect because a large amount of time has elapsed between sampling events)."
     ]
    },
    {
     "cell_type": "code",
     "collapsed": false,
     "input": [
      "for e in to_resequence_distance_to_site_identifier_tp21_22:\n",
      "    print e[1] + '.021'\n",
      "    print e[1] + '.022'"
     ],
     "language": "python",
     "metadata": {},
     "outputs": []
    },
    {
     "cell_type": "markdown",
     "metadata": {},
     "source": [
      "We don't want to choose the same sample ids that we have between samples that we have for sampling periods 2 and 3 because we don't observe a significant difference between those samples between sampling periods 1 and 2."
     ]
    },
    {
     "cell_type": "code",
     "collapsed": false,
     "input": [
      "distance_to_site_identifier_tp21_22_same_sids = [e for e in distance_to_site_identifier_tp21_22 if e[1] in dict(distance_to_site_identifier_tp40_41).values()]\n"
     ],
     "language": "python",
     "metadata": {},
     "outputs": []
    },
    {
     "cell_type": "code",
     "collapsed": false,
     "input": [
      "obs_t, param_p_val, perm_t_stats, nonparam_p_val = mc_t_two_sample([e[0] for e in distance_to_site_identifier_tp21_22_same_sids], [e[0] for e in distance_to_site_identifier_tp40_41], tails='high')\n",
      "print obs_t, param_p_val, nonparam_p_val"
     ],
     "language": "python",
     "metadata": {},
     "outputs": []
    },
    {
     "cell_type": "heading",
     "level": 2,
     "metadata": {},
     "source": [
      "Are distances different between timepoints one and two over different sequencing runs"
     ]
    },
    {
     "cell_type": "code",
     "collapsed": false,
     "input": [
      "#Run 1 (actually from two different runs)\n",
      "run_1_unweighted_dm = \"run_1_unweighted_unifrac_dm.txt\"\n",
      "run_1_weighted_dm = \"run_1_weighted_unifrac_dm.txt\"\n",
      "\n",
      "#Run 2 distance matrices are already filtered\n",
      "run_2_unweighted_dm = \"unweighted_unifrac_filtered_otu_table.txt\"\n",
      "run_2_weighted_dm = \"unweighted_unifrac_filtered_otu_table.txt\"\n",
      "\n",
      "#filtered otu table created for the control samples\n",
      "otu_table = \"filtered_otu_table.biom\"\n",
      "map_fp = \"master_period_1-2-3_map_5182014.txt\"\n",
      "\n",
      "#Output paths\n",
      "run_1_unweighted_filtered_dm = \"run_1_unweighted_filtered_dm.txt\"\n",
      "run_1_weighted_filtered_dm = \"run_1_weighted_filtered_dm.txt\"\n",
      "\n"
     ],
     "language": "python",
     "metadata": {},
     "outputs": [],
     "prompt_number": 25
    },
    {
     "cell_type": "code",
     "collapsed": false,
     "input": [
      "!filter_distance_matrix.py -i $run_1_unweighted_dm -o $run_1_unweighted_filtered_dm -t $otu_table\n",
      "!filter_distance_matrix.py -i $run_2_weighted_dm -o $run_1_weighted_filtered_dm -t $otu_table"
     ],
     "language": "python",
     "metadata": {},
     "outputs": [],
     "prompt_number": 26
    },
    {
     "cell_type": "code",
     "collapsed": false,
     "input": [
      "from qiime.group import get_grouped_distances \n",
      "from qiime.parse import parse_distmat, parse_mapping_file\n",
      "\n",
      "dist_matrix_header_2, dist_matrix_2 = parse_distmat(open(run_2_unweighted_dm,'U'))\n",
      "mapping, mapping_header, _ = parse_mapping_file(open(map_fp,'U'))"
     ],
     "language": "python",
     "metadata": {},
     "outputs": [],
     "prompt_number": 27
    },
    {
     "cell_type": "code",
     "collapsed": false,
     "input": [
      "r = get_grouped_distances(dist_matrix_header_2, dist_matrix_2,\n",
      "                                mapping_header, mapping, field='SiteIdentifier')\n",
      "distance_to_site_identifier_run2 = [(e[2][0], e[0]) for e in r]\n",
      "distance_to_site_identifier_run2.sort()\n",
      "for e in distance_to_site_identifier_run2:\n",
      "    print e\n",
      "print len(distance_to_site_identifier_run2)"
     ],
     "language": "python",
     "metadata": {},
     "outputs": [
      {
       "output_type": "stream",
       "stream": "stdout",
       "text": [
        "(0.16280908104700001, 'F2W.2.Ca')\n",
        "(0.188925736702, 'F2F.2.Ce')\n",
        "(0.31191729905499999, 'F3W.2.Ce')\n",
        "(0.33426798757600001, 'F1W.3.Dr')\n",
        "(0.364987834171, 'F1C.3.Dr')\n",
        "(0.438952557947, 'F2W.2.Ce')\n",
        "(0.49685608006100002, 'F1F.3.Ca')\n",
        "(0.70058093975699998, 'F1W.2.Ce')\n",
        "(0.80155363050999995, 'F1C.3.Ca')\n",
        "(0.82115796101899996, 'F2F.3.Ce')\n",
        "10\n"
       ]
      }
     ],
     "prompt_number": 28
    },
    {
     "cell_type": "code",
     "collapsed": false,
     "input": [
      "dist_matrix_header_1, dist_matrix_1 = parse_distmat(open(run_1_unweighted_filtered_dm,'U'))"
     ],
     "language": "python",
     "metadata": {},
     "outputs": [],
     "prompt_number": 29
    },
    {
     "cell_type": "code",
     "collapsed": false,
     "input": [
      "r = get_grouped_distances(dist_matrix_header_1, dist_matrix_1,\n",
      "                                mapping_header, mapping, field='SiteIdentifier')\n",
      "distance_to_site_identifier_run1 = [(e[2][0], e[0]) for e in r]\n",
      "distance_to_site_identifier_run1.sort()\n",
      "for e in distance_to_site_identifier_run1:\n",
      "    print e\n",
      "print len(distance_to_site_identifier_run1)"
     ],
     "language": "python",
     "metadata": {},
     "outputs": [
      {
       "output_type": "stream",
       "stream": "stdout",
       "text": [
        "(0.67498101633300001, 'F2F.2.Ce')\n",
        "(0.71715745961900002, 'F2F.3.Ce')\n",
        "(0.77521069281400001, 'F2W.2.Ca')\n",
        "(0.81447871602999999, 'F2W.2.Ce')\n",
        "(0.825772732728, 'F3W.2.Ce')\n",
        "(0.83788911999399995, 'F1F.3.Ca')\n",
        "(0.84561083511199997, 'F1C.3.Ca')\n",
        "(0.86032688978799998, 'F1W.2.Ce')\n",
        "(0.86360035883099995, 'F1W.3.Dr')\n",
        "(0.87593325085999996, 'F1C.3.Dr')\n",
        "10\n"
       ]
      }
     ],
     "prompt_number": 30
    },
    {
     "cell_type": "code",
     "collapsed": false,
     "input": [
      "from cogent.maths.stats.test import mc_t_two_sample\n",
      "obs_t, param_p_val, perm_t_stats, nonparam_p_val = mc_t_two_sample([e[0] for e in distance_to_site_identifier_run1], [e[0] for e in distance_to_site_identifier_run2], tails='high')\n",
      "print obs_t, param_p_val, nonparam_p_val"
     ],
     "language": "python",
     "metadata": {},
     "outputs": [
      {
       "output_type": "stream",
       "stream": "stdout",
       "text": [
        "4.41581821454 0.000166794418121 0.001\n"
       ]
      }
     ],
     "prompt_number": 31
    },
    {
     "cell_type": "code",
     "collapsed": false,
     "input": [],
     "language": "python",
     "metadata": {},
     "outputs": []
    },
    {
     "cell_type": "code",
     "collapsed": false,
     "input": [],
     "language": "python",
     "metadata": {},
     "outputs": []
    }
   ],
   "metadata": {}
  }
 ]
}