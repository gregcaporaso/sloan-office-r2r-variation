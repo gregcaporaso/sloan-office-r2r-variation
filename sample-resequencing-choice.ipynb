{
 "metadata": {
  "name": "",
  "signature": "sha256:32722cc797023fba4ba2398b5905e63f6dd7f74d347556b2735c2d35c478df80"
 },
 "nbformat": 3,
 "nbformat_minor": 0,
 "worksheets": [
  {
   "cells": [
    {
     "cell_type": "code",
     "collapsed": false,
     "input": [
      "# these files do need to be in the gist\n",
      "unweighted_dm_fp = \"run_1_unweighted_unifrac_dm.txt\"\n",
      "weighted_dm_fp = \"run_1_weighted_unifrac_dm.txt\"\n",
      "master_mapping_fp = \"master_period_1-2-3_map_5182014.txt\"\n",
      "\n",
      "# these files don't need to be in the gist\n",
      "flagstaff_tp21_22_unweighted_dm_fp = \"flagstaff_tp21_22_unweighted_unifrac_dm.txt\"\n",
      "flagstaff_tp40_41_unweighted_dm_fp = \"flagstaff_tp40_41_unweighted_unifrac_dm.txt\"\n",
      "flagstaff_tp21_22_weighted_dm_fp = \"flagstaff_tp21_22_weighted_unifrac_dm.txt\"\n",
      "flagstaff_tp40_41_weighted_dm_fp = \"flagstaff_tp40_41_weighted_unifrac_dm.txt\""
     ],
     "language": "python",
     "metadata": {},
     "outputs": [],
     "prompt_number": 1
    },
    {
     "cell_type": "heading",
     "level": 2,
     "metadata": {},
     "source": [
      "Find largest distances between sampling period 1 end and period 2 start "
     ]
    },
    {
     "cell_type": "code",
     "collapsed": false,
     "input": [
      "!filter_distance_matrix.py -i $unweighted_dm_fp -o $flagstaff_tp21_22_unweighted_dm_fp -m $master_mapping_fp -s \"City:flagstaff;TimePoint:21,22\"\n",
      "!filter_distance_matrix.py -i $weighted_dm_fp -o $flagstaff_tp21_22_weighted_dm_fp -m $master_mapping_fp -s \"City:flagstaff;TimePoint:21,22\""
     ],
     "language": "python",
     "metadata": {},
     "outputs": [],
     "prompt_number": 2
    },
    {
     "cell_type": "code",
     "collapsed": false,
     "input": [
      "!compare_distance_matrices.py --method mantel -i $flagstaff_tp21_22_unweighted_dm_fp,$flagstaff_tp21_22_weighted_dm_fp  -o mantel_out -n 999"
     ],
     "language": "python",
     "metadata": {},
     "outputs": [],
     "prompt_number": 3
    },
    {
     "cell_type": "code",
     "collapsed": false,
     "input": [
      "!cat mantel_out/mantel_results.txt"
     ],
     "language": "python",
     "metadata": {},
     "outputs": [
      {
       "output_type": "stream",
       "stream": "stdout",
       "text": [
        "# Number of entries refers to the number of rows (or cols) retained in each\r\n",
        "# distance matrix after filtering the distance matrices to include only those\r\n",
        "# samples that were in both distance matrices. p-value contains the correct\r\n",
        "# number of significant digits.\r\n",
        "DM1\tDM2\tNumber of entries\tMantel r statistic\tp-value\tNumber of permutations\tTail type\r\n",
        "flagstaff_tp21_22_unweighted_unifrac_dm.txt\tflagstaff_tp21_22_weighted_unifrac_dm.txt\t81\t0.73614\t0.001\t999\ttwo sided\r\n"
       ]
      }
     ],
     "prompt_number": 4
    },
    {
     "cell_type": "code",
     "collapsed": false,
     "input": [
      "from qiime.group import get_grouped_distances \n",
      "from qiime.parse import parse_distmat, parse_mapping_file\n",
      "\n",
      "dist_matrix_header, dist_matrix = parse_distmat(open(flagstaff_tp21_22_unweighted_dm_fp,'U'))\n",
      "mapping, mapping_header, _ = parse_mapping_file(open(master_mapping_fp,'U'))"
     ],
     "language": "python",
     "metadata": {},
     "outputs": [],
     "prompt_number": 5
    },
    {
     "cell_type": "code",
     "collapsed": false,
     "input": [
      "r = get_grouped_distances(dist_matrix_header, dist_matrix,\n",
      "                                mapping_header, mapping, field='SiteIdentifier')\n",
      "distance_to_site_identifier_tp21_22 = [(e[2][0], e[0]) for e in r]\n",
      "distance_to_site_identifier_tp21_22.sort()\n",
      "for e in distance_to_site_identifier_tp21_22:\n",
      "    print e\n"
     ],
     "language": "python",
     "metadata": {},
     "outputs": [
      {
       "output_type": "stream",
       "stream": "stdout",
       "text": [
        "(0.67498101633300001, 'F2F.2.Ce')\n",
        "(0.68575478961500003, 'F3F.2.Ce')\n",
        "(0.69923740420900005, 'F3F.2.Dr')\n",
        "(0.71715745961900002, 'F2F.3.Ce')\n",
        "(0.74688569029600005, 'F3F.2.Ca')\n",
        "(0.76577553946300003, 'F3W.2.Ca')\n",
        "(0.77521069281400001, 'F2W.2.Ca')\n",
        "(0.81142037073899997, 'F1F.3.Ce')\n",
        "(0.811997425203, 'F2W.3.Ca')\n",
        "(0.81447871602999999, 'F2W.2.Ce')\n",
        "(0.81596451937699999, 'F2W.3.Dr')\n",
        "(0.82057838173099995, 'F1C.2.Ca')\n",
        "(0.825772732728, 'F3W.2.Ce')\n",
        "(0.82643646589700004, 'F1F.3.Dr')\n",
        "(0.83049849031099998, 'F1F.2.Ce')\n",
        "(0.83788911999399995, 'F1F.3.Ca')\n",
        "(0.84048953757, 'F1C.2.Ce')\n",
        "(0.84274385466099999, 'F1W.3.Ca')\n",
        "(0.84561083511199997, 'F1C.3.Ca')\n",
        "(0.84593369341400004, 'F1F.2.Dr')\n",
        "(0.84681702595899999, 'F2W.2.Dr')\n",
        "(0.86032688978799998, 'F1W.2.Ce')\n",
        "(0.86082357843599999, 'F2C.3.Ce')\n",
        "(0.86268721099400003, 'F1C.2.Dr')\n",
        "(0.86360035883099995, 'F1W.3.Dr')\n",
        "(0.86680468608299999, 'F1W.2.Dr')\n",
        "(0.87328245675799998, 'F2C.2.Ce')\n",
        "(0.87593325085999996, 'F1C.3.Dr')\n",
        "(0.92768458864400005, 'F1W.2.Ca')\n"
       ]
      }
     ],
     "prompt_number": 6
    },
    {
     "cell_type": "code",
     "collapsed": false,
     "input": [
      "print len(distance_to_site_identifier_tp21_22)"
     ],
     "language": "python",
     "metadata": {},
     "outputs": [
      {
       "output_type": "stream",
       "stream": "stdout",
       "text": [
        "29\n"
       ]
      }
     ],
     "prompt_number": 7
    },
    {
     "cell_type": "code",
     "collapsed": false,
     "input": [
      "to_resequence_distance_to_site_identifier_tp21_22 = [distance_to_site_identifier_tp21_22[i] for i in range(0,30,3)]\n",
      "for e in to_resequence_distance_to_site_identifier_tp21_22:\n",
      "    print e\n",
      "print len(to_resequence_distance_to_site_identifier_tp21_22)"
     ],
     "language": "python",
     "metadata": {},
     "outputs": [
      {
       "output_type": "stream",
       "stream": "stdout",
       "text": [
        "(0.67498101633300001, 'F2F.2.Ce')\n",
        "(0.71715745961900002, 'F2F.3.Ce')\n",
        "(0.77521069281400001, 'F2W.2.Ca')\n",
        "(0.81447871602999999, 'F2W.2.Ce')\n",
        "(0.825772732728, 'F3W.2.Ce')\n",
        "(0.83788911999399995, 'F1F.3.Ca')\n",
        "(0.84561083511199997, 'F1C.3.Ca')\n",
        "(0.86032688978799998, 'F1W.2.Ce')\n",
        "(0.86360035883099995, 'F1W.3.Dr')\n",
        "(0.87593325085999996, 'F1C.3.Dr')\n",
        "10\n"
       ]
      }
     ],
     "prompt_number": 8
    },
    {
     "cell_type": "heading",
     "level": 2,
     "metadata": {},
     "source": [
      "Find largest distances between sampling period 2 end and period 3 start "
     ]
    },
    {
     "cell_type": "code",
     "collapsed": false,
     "input": [
      "!filter_distance_matrix.py -i $unweighted_dm_fp -o $flagstaff_tp40_41_unweighted_dm_fp -m $master_mapping_fp -s \"City:flagstaff;TimePoint:40,41\"\n",
      "!filter_distance_matrix.py -i $weighted_dm_fp -o $flagstaff_tp40_41_weighted_dm_fp -m $master_mapping_fp -s \"City:flagstaff;TimePoint:40,41\""
     ],
     "language": "python",
     "metadata": {},
     "outputs": [],
     "prompt_number": 9
    },
    {
     "cell_type": "code",
     "collapsed": false,
     "input": [
      "!compare_distance_matrices.py --method mantel -i $flagstaff_tp40_41_unweighted_dm_fp,$flagstaff_tp40_41_weighted_dm_fp  -o mantel_out -n 999"
     ],
     "language": "python",
     "metadata": {},
     "outputs": [],
     "prompt_number": 10
    },
    {
     "cell_type": "code",
     "collapsed": false,
     "input": [
      "!cat mantel_out/mantel_results.txt"
     ],
     "language": "python",
     "metadata": {},
     "outputs": [
      {
       "output_type": "stream",
       "stream": "stdout",
       "text": [
        "# Number of entries refers to the number of rows (or cols) retained in each\r\n",
        "# distance matrix after filtering the distance matrices to include only those\r\n",
        "# samples that were in both distance matrices. p-value contains the correct\r\n",
        "# number of significant digits.\r\n",
        "DM1\tDM2\tNumber of entries\tMantel r statistic\tp-value\tNumber of permutations\tTail type\r\n",
        "flagstaff_tp40_41_unweighted_unifrac_dm.txt\tflagstaff_tp40_41_weighted_unifrac_dm.txt\t51\t0.78958\t0.001\t999\ttwo sided\r\n"
       ]
      }
     ],
     "prompt_number": 11
    },
    {
     "cell_type": "code",
     "collapsed": false,
     "input": [
      "from qiime.group import get_grouped_distances \n",
      "from qiime.parse import parse_distmat, parse_mapping_file\n",
      "\n",
      "dist_matrix_header, dist_matrix = parse_distmat(open(flagstaff_tp40_41_unweighted_dm_fp,'U'))\n",
      "mapping, mapping_header, _ = parse_mapping_file(open(master_mapping_fp,'U'))"
     ],
     "language": "python",
     "metadata": {},
     "outputs": [],
     "prompt_number": 12
    },
    {
     "cell_type": "code",
     "collapsed": false,
     "input": [
      "r = get_grouped_distances(dist_matrix_header, dist_matrix,\n",
      "                                mapping_header, mapping, field='SiteIdentifier')\n",
      "distance_to_site_identifier_tp40_41 = [(e[2][0], e[0]) for e in r]\n",
      "distance_to_site_identifier_tp40_41.sort()\n",
      "for e in distance_to_site_identifier_tp40_41:\n",
      "    print e\n"
     ],
     "language": "python",
     "metadata": {},
     "outputs": [
      {
       "output_type": "stream",
       "stream": "stdout",
       "text": [
        "(0.64429315476000004, 'F2F.2.Dr')\n",
        "(0.64442199973400005, 'F3F.2.Dr')\n",
        "(0.70199994909700003, 'F1W.3.Dr')\n",
        "(0.70442783902399997, 'F1F.2.Dr')\n",
        "(0.73167282156000002, 'F3F.3.Dr')\n",
        "(0.73925249870200005, 'F3F.3.Ce')\n",
        "(0.76150450744200004, 'F2F.3.Ce')\n",
        "(0.76385873182899999, 'F3C.3.Ce')\n",
        "(0.76663136008699995, 'F3C.3.Dr')\n",
        "(0.77980729529299997, 'F2C.2.Dr')\n",
        "(0.78350110533999995, 'F1C.3.Ce')\n",
        "(0.79939392382100005, 'F2C.3.Dr')\n",
        "(0.83945078062199996, 'F3W.2.Ce')\n"
       ]
      }
     ],
     "prompt_number": 13
    },
    {
     "cell_type": "code",
     "collapsed": false,
     "input": [
      "from cogent.maths.stats.test import mc_t_two_sample"
     ],
     "language": "python",
     "metadata": {},
     "outputs": [],
     "prompt_number": 14
    },
    {
     "cell_type": "code",
     "collapsed": false,
     "input": [
      "obs_t, param_p_val, perm_t_stats, nonparam_p_val = mc_t_two_sample([e[0] for e in to_resequence_distance_to_site_identifier_tp21_22], [e[0] for e in distance_to_site_identifier_tp40_41], tails='high')\n",
      "print obs_t, param_p_val, nonparam_p_val"
     ],
     "language": "python",
     "metadata": {},
     "outputs": [
      {
       "output_type": "stream",
       "stream": "stdout",
       "text": [
        "2.54702948153 0.00938225598194 0.012\n"
       ]
      }
     ],
     "prompt_number": 15
    },
    {
     "cell_type": "markdown",
     "metadata": {},
     "source": [
      "So, the samples that we want to include in the next sequencing run are these. The question we want to answer is *is the distribution of distances between between samples from the end of sampling period 1 and the beginning of sampling period two smaller when those samples are sequenced on the same sequencing run, relative to when they are sequenced on different sequencing runs.* Here, we show that the distances between the end of sampling run 1 and the beginning of sampling run 2 are larger than the distances between the end of sampling run 2 and the beginning of sampling run 3 (just as a sanity check to make sure that the differences we're seeing aren't what we expect because a large amount of time has elapsed between sampling events)."
     ]
    },
    {
     "cell_type": "code",
     "collapsed": false,
     "input": [
      "for e in to_resequence_distance_to_site_identifier_tp21_22:\n",
      "    print e[1] + '.021'\n",
      "    print e[1] + '.022'"
     ],
     "language": "python",
     "metadata": {},
     "outputs": [
      {
       "output_type": "stream",
       "stream": "stdout",
       "text": [
        "F2F.2.Ce.021\n",
        "F2F.2.Ce.022\n",
        "F2F.3.Ce.021\n",
        "F2F.3.Ce.022\n",
        "F2W.2.Ca.021\n",
        "F2W.2.Ca.022\n",
        "F2W.2.Ce.021\n",
        "F2W.2.Ce.022\n",
        "F3W.2.Ce.021\n",
        "F3W.2.Ce.022\n",
        "F1F.3.Ca.021\n",
        "F1F.3.Ca.022\n",
        "F1C.3.Ca.021\n",
        "F1C.3.Ca.022\n",
        "F1W.2.Ce.021\n",
        "F1W.2.Ce.022\n",
        "F1W.3.Dr.021\n",
        "F1W.3.Dr.022\n",
        "F1C.3.Dr.021\n",
        "F1C.3.Dr.022\n"
       ]
      }
     ],
     "prompt_number": 16
    },
    {
     "cell_type": "markdown",
     "metadata": {},
     "source": [
      "We don't want to choose the same sample ids that we have between samples that we have for sampling periods 2 and 3 because we don't observe a significant difference between those samples between sampling periods 1 and 2."
     ]
    },
    {
     "cell_type": "code",
     "collapsed": false,
     "input": [
      "distance_to_site_identifier_tp21_22_same_sids = [e for e in distance_to_site_identifier_tp21_22 if e[1] in dict(distance_to_site_identifier_tp40_41).values()]\n"
     ],
     "language": "python",
     "metadata": {},
     "outputs": [],
     "prompt_number": 17
    },
    {
     "cell_type": "code",
     "collapsed": false,
     "input": [
      "obs_t, param_p_val, perm_t_stats, nonparam_p_val = mc_t_two_sample([e[0] for e in distance_to_site_identifier_tp21_22_same_sids], [e[0] for e in distance_to_site_identifier_tp40_41], tails='high')\n",
      "print obs_t, param_p_val, nonparam_p_val"
     ],
     "language": "python",
     "metadata": {},
     "outputs": [
      {
       "output_type": "stream",
       "stream": "stdout",
       "text": [
        "1.43132994448 0.0857894398811 0.076\n"
       ]
      }
     ],
     "prompt_number": 18
    },
    {
     "cell_type": "heading",
     "level": 2,
     "metadata": {},
     "source": [
      "Are distances different between timepoints one and two over different sequencing runs"
     ]
    },
    {
     "cell_type": "markdown",
     "metadata": {},
     "source": [
      "We now have sequenced the 20 samples listed above on two separate sequencing runs, and in a single sequencing run. We're now interested to figure out:\n",
      "\n",
      "1. Is the distribution of paired distances\\* the same when sequenced in two runs and in one run (t-test)?\n",
      "2. Are the paired distances correlated between when sequenced in two runs versus one run (Pearson correlation, Spearman correlation, scatter plot)?\n",
      "3. Are the full distance matrices correlated (Mantel test)?\n",
      "\n",
      "\\* Paired distances refer to the adjacent timepoints from the same site, spanning the Summer to Fall sampling periods (i.e., timepoints 21 and 22). "
     ]
    },
    {
     "cell_type": "code",
     "collapsed": false,
     "input": [
      "from cogent.maths.stats.test import correlation_test\n",
      "from cogent.maths.stats.test import mc_t_two_sample\n",
      "from pylab import scatter, xlabel, ylabel, xlim, ylim\n",
      "from qiime.group import get_grouped_distances \n",
      "from qiime.parse import parse_distmat, parse_mapping_file\n",
      "\n",
      "%pylab inline\n",
      "\n",
      "map_fp = \"master_period_1-2-3_map_5182014.txt\"\n",
      "\n",
      "def compare_distance_matrices(dm1_fp, dm2_fp, map_fp):\n",
      "    mapping, mapping_header, _ = parse_mapping_file(open(map_fp,'U'))\n",
      "    dist_matrix_header_1, dist_matrix_1 = parse_distmat(open(dm1_fp,'U'))\n",
      "    dist_matrix_header_2, dist_matrix_2 = parse_distmat(open(dm2_fp,'U'))\n",
      "    \n",
      "    r = get_grouped_distances(dist_matrix_header_1, dist_matrix_1,\n",
      "                                mapping_header, mapping, field='SiteIdentifier')\n",
      "    distance_to_site_identifier_run1 = [(e[2][0], e[0]) for e in r]\n",
      "    distance_to_site_identifier_run1.sort()\n",
      "    print \"dm1 paired distances\"\n",
      "    for e in distance_to_site_identifier_run1:\n",
      "        print e\n",
      "    print \"n=%d\" % len(distance_to_site_identifier_run1)\n",
      "    print\n",
      "    \n",
      "    r = get_grouped_distances(dist_matrix_header_2, dist_matrix_2,\n",
      "                                mapping_header, mapping, field='SiteIdentifier')\n",
      "    distance_to_site_identifier_run2 = [(e[2][0], e[0]) for e in r]\n",
      "    distance_to_site_identifier_run2.sort()\n",
      "    print \"dm2 paired distances\"\n",
      "    for e in distance_to_site_identifier_run2:\n",
      "        print e\n",
      "    print \"n=%d\" % len(distance_to_site_identifier_run2)\n",
      "    \n",
      "    print \"Distance distribution comparison (Monte Carlo t-test):\"\n",
      "    obs_t, param_p_val, perm_t_stats, nonparam_p_val = mc_t_two_sample([e[0] for e in distance_to_site_identifier_run1], \n",
      "                                                                       [e[0] for e in distance_to_site_identifier_run2])\n",
      "    print \"t=%.3f, p=%f\" % (obs_t, nonparam_p_val)\n",
      "    print\n",
      "    \n",
      "    r = get_grouped_distances(dist_matrix_header_1, dist_matrix_1,\n",
      "                                    mapping_header, mapping, field='SiteIdentifier')\n",
      "    site_identifier_to_distance_run1 = {e[0]: e[2][0] for e in r}\n",
      "    r = get_grouped_distances(dist_matrix_header_2, dist_matrix_2,\n",
      "                                    mapping_header, mapping, field='SiteIdentifier')\n",
      "    site_identifier_to_distance_run2 = {e[0]: e[2][0] for e in r}\n",
      "    ordered_keys = list(set(site_identifier_to_distance_run1.keys()) & \n",
      "                        set(site_identifier_to_distance_run2.keys()))\n",
      "    \n",
      "    corr_coeff, _, _, nonparametric_p_val, _ = correlation_test(\n",
      "        [site_identifier_to_distance_run1[k] for k in ordered_keys],\n",
      "        [site_identifier_to_distance_run2[k] for k in ordered_keys])\n",
      "    print \"Pearson correlation (Monte Carlo test):\"\n",
      "    print \"r=%.3f, p=%f\" % (corr_coeff, nonparametric_p_val)\n",
      "    print\n",
      "    \n",
      "    corr_coeff, _, _, nonparametric_p_val, _ = correlation_test(\n",
      "        [site_identifier_to_distance_run1[k] for k in ordered_keys],\n",
      "        [site_identifier_to_distance_run2[k] for k in ordered_keys],\n",
      "        method=\"spearman\")\n",
      "    print \"Spearman correlation (Monte Carlo test):\"\n",
      "    print \"r=%.3f, p=%f\" % (corr_coeff, nonparametric_p_val)\n",
      "    print\n",
      "    \n",
      "    scatter([site_identifier_to_distance_run1[k] for k in ordered_keys],\n",
      "         [site_identifier_to_distance_run2[k] for k in ordered_keys])\n",
      "    xlabel(dm1_fp)\n",
      "    ylabel(dm2_fp)\n",
      "    xlim((0,1))\n",
      "    ylim((0,1))\n",
      "    \n",
      "    print \"Mantel test\"\n",
      "    mantel_out = \"mantel_out\"\n",
      "    !compare_distance_matrices.py -i $dm1_fp,$dm2_fp -o $mantel_out --method mantel -n 999\n",
      "    !cat $mantel_out/mantel_results.txt\n",
      "    !rm -r $mantel_out\n",
      "    print \"\""
     ],
     "language": "python",
     "metadata": {},
     "outputs": [
      {
       "output_type": "stream",
       "stream": "stdout",
       "text": [
        "Populating the interactive namespace from numpy and matplotlib\n"
       ]
      },
      {
       "output_type": "stream",
       "stream": "stderr",
       "text": [
        "WARNING: pylab import has clobbered these variables: ['e']\n",
        "`%pylab --no-import-all` prevents importing * from pylab and numpy\n"
       ]
      }
     ],
     "prompt_number": 19
    },
    {
     "cell_type": "heading",
     "level": 2,
     "metadata": {},
     "source": [
      "Unweighted unifrac analysis: standard analysis pipeline"
     ]
    },
    {
     "cell_type": "code",
     "collapsed": false,
     "input": [
      "#Run 1 (actually from two different runs)\n",
      "run_1_unweighted_dm = \"run_1_unweighted_unifrac_dm.txt\"\n",
      "run_1_weighted_dm = \"run_1_weighted_unifrac_dm.txt\"\n",
      "\n",
      "#Run 2 distance matrices are already filtered\n",
      "run_2_unweighted_dm = \"unweighted_unifrac_otu_table_mc2_w_tax_no_pynast_failures_even5000.txt\"\n",
      "run_2_weighted_dm = \"weighted_unifrac_otu_table_mc2_w_tax_no_pynast_failures_even5000.txt\"\n",
      "\n",
      "#filtered otu table created for the control samples\n",
      "otu_table = \"otu_table_mc2_w_tax_no_pynast_failures_even5000.biom\"\n",
      "\n",
      "#Output paths\n",
      "run_1_unweighted_filtered_dm = \"run_1_unweighted_filtered_dm.txt\"\n",
      "run_1_weighted_filtered_dm = \"run_1_weighted_filtered_dm.txt\"\n",
      "\n"
     ],
     "language": "python",
     "metadata": {},
     "outputs": [],
     "prompt_number": 20
    },
    {
     "cell_type": "code",
     "collapsed": false,
     "input": [
      "!filter_distance_matrix.py -i $run_1_unweighted_dm -o $run_1_unweighted_filtered_dm -t $otu_table\n",
      "!filter_distance_matrix.py -i $run_1_weighted_dm -o $run_1_weighted_filtered_dm -t $otu_table"
     ],
     "language": "python",
     "metadata": {},
     "outputs": [],
     "prompt_number": 21
    },
    {
     "cell_type": "code",
     "collapsed": false,
     "input": [
      "compare_distance_matrices(run_1_unweighted_filtered_dm, run_2_unweighted_dm, map_fp)"
     ],
     "language": "python",
     "metadata": {},
     "outputs": [
      {
       "output_type": "stream",
       "stream": "stdout",
       "text": [
        "dm1 paired distances\n",
        "(0.67498101633300001, 'F2F.2.Ce')\n",
        "(0.71715745961900002, 'F2F.3.Ce')\n",
        "(0.77521069281400001, 'F2W.2.Ca')\n",
        "(0.81447871602999999, 'F2W.2.Ce')\n",
        "(0.825772732728, 'F3W.2.Ce')\n",
        "(0.83788911999399995, 'F1F.3.Ca')\n",
        "(0.86032688978799998, 'F1W.2.Ce')\n",
        "(0.86360035883099995, 'F1W.3.Dr')\n",
        "(0.87593325085999996, 'F1C.3.Dr')\n",
        "n=9\n",
        "\n",
        "dm2 paired distances\n",
        "(0.66174258655999996, 'F2F.2.Ce')\n",
        "(0.75650407430099997, 'F2W.2.Ca')\n",
        "(0.76695872184900005, 'F1C.3.Dr')\n",
        "(0.79018317287299999, 'F3W.2.Ce')\n",
        "(0.81405818653700002, 'F1F.3.Ca')\n",
        "(0.83045903680099997, 'F2W.2.Ce')\n",
        "(0.87588017366100002, 'F1W.2.Ce')\n",
        "(0.88245462930200003, 'F1W.3.Dr')\n",
        "(0.93325735678199995, 'F2F.3.Ce')\n",
        "n=9\n",
        "Distance distribution comparison (Monte Carlo t-test):\n",
        "t=-0.207, p=0.859000"
       ]
      },
      {
       "output_type": "stream",
       "stream": "stdout",
       "text": [
        "\n",
        "\n",
        "Pearson correlation (Monte Carlo test):"
       ]
      },
      {
       "output_type": "stream",
       "stream": "stdout",
       "text": [
        "\n",
        "r=0.329, p=0.389000\n",
        "\n",
        "Spearman correlation (Monte Carlo test):"
       ]
      },
      {
       "output_type": "stream",
       "stream": "stdout",
       "text": [
        "\n",
        "r=0.233, p=0.528000\n",
        "\n",
        "Mantel test\n"
       ]
      },
      {
       "output_type": "stream",
       "stream": "stdout",
       "text": [
        "# Number of entries refers to the number of rows (or cols) retained in each\r\n",
        "# distance matrix after filtering the distance matrices to include only those\r\n",
        "# samples that were in both distance matrices. p-value contains the correct\r\n",
        "# number of significant digits.\r\n",
        "DM1\tDM2\tNumber of entries\tMantel r statistic\tp-value\tNumber of permutations\tTail type\r\n",
        "run_1_unweighted_filtered_dm.txt\tunweighted_unifrac_otu_table_mc2_w_tax_no_pynast_failures_even5000.txt\t19\t0.43027\t0.001\t999\ttwo sided\r\n"
       ]
      },
      {
       "output_type": "stream",
       "stream": "stdout",
       "text": [
        "\n"
       ]
      },
      {
       "metadata": {},
       "output_type": "display_data",
       "png": "[encoded data removed]",
       "text": [
        "<matplotlib.figure.Figure at 0x10c28c890>"
       ]
      }
     ],
     "prompt_number": 22
    },
    {
     "cell_type": "markdown",
     "metadata": {},
     "source": [
      "Findings (numbered the same as the questions listed above):\n",
      "\n",
      "1. The distributions appear to be effectively the same.\n",
      "2. Paired distances are not correlated by either metric.\n",
      "3. Distance matrices are weakly correlated."
     ]
    },
    {
     "cell_type": "heading",
     "level": 2,
     "metadata": {},
     "source": [
      "weighted unifrac analyses: standard analysis pipeline"
     ]
    },
    {
     "cell_type": "code",
     "collapsed": false,
     "input": [
      "compare_distance_matrices(run_1_weighted_filtered_dm, run_2_weighted_dm, map_fp)"
     ],
     "language": "python",
     "metadata": {},
     "outputs": [
      {
       "output_type": "stream",
       "stream": "stdout",
       "text": [
        "dm1 paired distances\n",
        "(0.33990408999999999, 'F2F.3.Ce')\n",
        "(0.34907711000000002, 'F2F.2.Ce')\n",
        "(0.42572803399999998, 'F2W.2.Ca')\n",
        "(0.567816506, 'F3W.2.Ce')\n",
        "(0.61767788000000001, 'F1F.3.Ca')\n",
        "(0.61799905799999999, 'F1W.3.Dr')\n",
        "(0.62729206599999998, 'F2W.2.Ce')\n",
        "(0.641100746, 'F1C.3.Dr')\n",
        "(0.65242235599999998, 'F1W.2.Ce')\n",
        "n=9\n",
        "\n",
        "dm2 paired distances\n",
        "(0.25119840599999999, 'F2F.2.Ce')\n",
        "(0.39449438599999997, 'F1F.3.Ca')\n",
        "(0.40883209799999998, 'F2W.2.Ca')\n",
        "(0.44460676199999999, 'F1C.3.Dr')\n",
        "(0.50970947799999999, 'F3W.2.Ce')\n",
        "(0.51671016800000003, 'F2W.2.Ce')\n",
        "(0.52524601000000004, 'F2F.3.Ce')\n",
        "(0.59258078800000002, 'F1W.3.Dr')\n",
        "(0.59667095199999998, 'F1W.2.Ce')\n",
        "n=9\n",
        "Distance distribution comparison (Monte Carlo t-test):\n",
        "t=1.181, p=0.270000"
       ]
      },
      {
       "output_type": "stream",
       "stream": "stdout",
       "text": [
        "\n",
        "\n",
        "Pearson correlation (Monte Carlo test):"
       ]
      },
      {
       "output_type": "stream",
       "stream": "stdout",
       "text": [
        "\n",
        "r=0.517, p=0.151000\n",
        "\n",
        "Spearman correlation (Monte Carlo test):"
       ]
      },
      {
       "output_type": "stream",
       "stream": "stdout",
       "text": [
        "\n",
        "r=0.433, p=0.245000\n",
        "\n",
        "Mantel test\n"
       ]
      },
      {
       "output_type": "stream",
       "stream": "stdout",
       "text": [
        "# Number of entries refers to the number of rows (or cols) retained in each\r\n",
        "# distance matrix after filtering the distance matrices to include only those\r\n",
        "# samples that were in both distance matrices. p-value contains the correct\r\n",
        "# number of significant digits.\r\n",
        "DM1\tDM2\tNumber of entries\tMantel r statistic\tp-value\tNumber of permutations\tTail type\r\n",
        "run_1_weighted_filtered_dm.txt\tweighted_unifrac_otu_table_mc2_w_tax_no_pynast_failures_even5000.txt\t19\t0.62643\t0.001\t999\ttwo sided\r\n"
       ]
      },
      {
       "output_type": "stream",
       "stream": "stdout",
       "text": [
        "\n"
       ]
      },
      {
       "metadata": {},
       "output_type": "display_data",
       "png": "[encoded data removed]",
       "text": [
        "<matplotlib.figure.Figure at 0x10c56c650>"
       ]
      }
     ],
     "prompt_number": 23
    },
    {
     "cell_type": "markdown",
     "metadata": {},
     "source": [
      "Findings (numbered the same as the questions listed above):\n",
      "\n",
      "1. The distributions appear to be effectively the same.\n",
      "2. Paired distances are not correlated by either metric.\n",
      "3. Distance matrices are moderately correlated.\n",
      "\n",
      "These appear to be the best of the settings that were survey (see more below)."
     ]
    },
    {
     "cell_type": "heading",
     "level": 1,
     "metadata": {},
     "source": [
      "Checking to see if removing low abundance OTUs can reduce the run to run variation that is observed"
     ]
    },
    {
     "cell_type": "markdown",
     "metadata": {},
     "source": [
      "From history, working on bacon in: ``/home/johnchase/code/office-succession/periods_all/control_data/pick_otus_out``\n",
      "\n",
      "```bash\n",
      "\n",
      "# filter the full otu table to the samples that were re-sequenced\n",
      "filter_samples_from_otu_table.py -i ../../../periods_all/pick_iterotus_out/otu_table_mc2_w_tax_no_pynast_failures.biom -o original_otu_table_full.biom --sample_id_fp sample_ids.txt\n",
      "\n",
      "\n",
      "# filter using Bokulich et al abundance threshold\n",
      "filter_otus_from_otu_table.py -i original_otu_table_full.biom -o original_otu_table_full_mcfrac00005.biom --min_count_fraction 0.00005\n",
      "filter_otus_from_otu_table.py -i otu_table_mc2_w_tax_no_pynast_failures.biom -o otu_table_mc2_w_tax_no_pynast_failures_mcfrac00005.biom --min_count_fraction 0.00005\n",
      "\n",
      "biom summarize-table -i original_otu_table_full_mcfrac00005.biom -o original_otu_table_full_mcfrac00005_summ.txt\n",
      "biom summarize-table -i otu_table_mc2_w_tax_no_pynast_failures_mcfrac00005.biom -o otu_table_mc2_w_tax_no_pynast_failures_mcfrac00005_summ.txt\n",
      "\n",
      "single_rarefaction.py -i original_otu_table_full_mcfrac00005.biom -o original_otu_table_full_mcfrac00005_even3298.biom -d 3298\n",
      "single_rarefaction.py -i otu_table_mc2_w_tax_no_pynast_failures_mcfrac00005.biom -o otu_table_mc2_w_tax_no_pynast_failures_mcfrac00005_even3298.biom -d 3298\n",
      "\n",
      "beta_diversity.py -i otu_table_mc2_w_tax_no_pynast_failures_mcfrac00005_even3298.biom -o bdiv_mcfrac00005_even3298 -t rep_set.tre\n",
      "# lost a bdiv command here...\n",
      "\n",
      "\n",
      "# filter using more lenient abundance threshold\n",
      "filter_otus_from_otu_table.py -i original_otu_table_full.biom -o original_otu_table_full_mc10.biom -n 10\n",
      "filter_otus_from_otu_table.py -i otu_table_mc2_w_tax_no_pynast_failures.biom -o otu_table_mc2_w_tax_no_pynast_failures_mc10.biom -n 10\n",
      "\n",
      "biom summarize-table -i original_otu_table_full_mc10.biom -o original_otu_table_full_mc10_summ.txt\n",
      "biom summarize-table -i otu_table_mc2_w_tax_no_pynast_failures_mc10.biom -o otu_table_mc2_w_tax_no_pynast_failures_mc10_summ.txt\n",
      "\n",
      "single_rarefaction.py -i otu_table_mc2_w_tax_no_pynast_failures_mc10.biom -d 3387 -o otu_table_mc2_w_tax_no_pynast_failures_mc10_even3387.biom\n",
      "single_rarefaction.py -i original_otu_table_full_mc10.biom -d 3387 -o original_otu_table_full_mc10_even3387.biom\n",
      "\n",
      "beta_diversity.py -i original_otu_table_full_mc10_even3387.biom -o bdiv_mc10_even3387/ -t rep_set.tre\n",
      "beta_diversity.py -i otu_table_mc2_w_tax_no_pynast_failures_mc10_even3387.biom -o bdiv_mc10_even3387/ -t rep_set.tre\n",
      "```"
     ]
    },
    {
     "cell_type": "heading",
     "level": 2,
     "metadata": {},
     "source": [
      "unweighted unifrac analysis: ``--min_count_fraction 0.00005``"
     ]
    },
    {
     "cell_type": "code",
     "collapsed": false,
     "input": [
      "run1_unweighted_dm = 'unweighted_unifrac_original_otu_table_full_mcfrac00005_even3298.txt'\n",
      "run2_unweighted_dm = 'unweighted_unifrac_otu_table_mc2_w_tax_no_pynast_failures_mcfrac00005_even3298.txt'\n",
      "\n",
      "compare_distance_matrices(run1_unweighted_dm, run2_unweighted_dm, map_fp)"
     ],
     "language": "python",
     "metadata": {},
     "outputs": [
      {
       "output_type": "stream",
       "stream": "stdout",
       "text": [
        "dm1 paired distances\n",
        "(0.45211559928, 'F2F.2.Ce')\n",
        "(0.453086246947, 'F2F.3.Ce')\n",
        "(0.59643391328999995, 'F2W.2.Ca')\n",
        "(0.651299335965, 'F3W.2.Ce')\n",
        "(0.66952048001999998, 'F1C.3.Dr')\n",
        "(0.67021113434199997, 'F1W.3.Dr')\n",
        "(0.70389910533300004, 'F2W.2.Ce')\n",
        "(0.73084669102300004, 'F1F.3.Ca')\n",
        "(0.73751589132499995, 'F1W.2.Ce')\n",
        "(0.76541395686900005, 'F1C.3.Ca')\n",
        "n=10\n",
        "\n",
        "dm2 paired distances\n",
        "(0.52118002316599998, 'F2F.2.Ce')\n",
        "(0.69519381575999994, 'F2W.2.Ca')\n",
        "(0.72120245950399997, 'F1C.3.Dr')\n",
        "(0.73460149411700004, 'F3W.2.Ce')\n",
        "(0.78605860919799997, 'F2W.2.Ce')\n",
        "(0.788751616978, 'F1F.3.Ca')\n",
        "(0.85277374897000002, 'F1W.2.Ce')\n",
        "(0.857571486848, 'F1W.3.Dr')\n",
        "(0.91606843971499996, 'F2F.3.Ce')\n",
        "n=9\n",
        "Distance distribution comparison (Monte Carlo t-test):\n",
        "t=-2.315, p=0.034000"
       ]
      },
      {
       "output_type": "stream",
       "stream": "stdout",
       "text": [
        "\n",
        "\n",
        "Pearson correlation (Monte Carlo test):"
       ]
      },
      {
       "output_type": "stream",
       "stream": "stdout",
       "text": [
        "\n",
        "r=0.334, p=0.385000\n",
        "\n",
        "Spearman correlation (Monte Carlo test):"
       ]
      },
      {
       "output_type": "stream",
       "stream": "stdout",
       "text": [
        "\n",
        "r=0.417, p=0.281000\n",
        "\n",
        "Mantel test\n"
       ]
      },
      {
       "output_type": "stream",
       "stream": "stdout",
       "text": [
        "# Number of entries refers to the number of rows (or cols) retained in each\r\n",
        "# distance matrix after filtering the distance matrices to include only those\r\n",
        "# samples that were in both distance matrices. p-value contains the correct\r\n",
        "# number of significant digits.\r\n",
        "DM1\tDM2\tNumber of entries\tMantel r statistic\tp-value\tNumber of permutations\tTail type\r\n",
        "unweighted_unifrac_original_otu_table_full_mcfrac00005_even3298.txt\tunweighted_unifrac_otu_table_mc2_w_tax_no_pynast_failures_mcfrac00005_even3298.txt\t19\t0.39818\t0.001\t999\ttwo sided\r\n"
       ]
      },
      {
       "output_type": "stream",
       "stream": "stdout",
       "text": [
        "\n"
       ]
      },
      {
       "metadata": {},
       "output_type": "display_data",
       "png": "[encoded data removed]",
       "text": [
        "<matplotlib.figure.Figure at 0x10c1d6310>"
       ]
      }
     ],
     "prompt_number": 24
    },
    {
     "cell_type": "markdown",
     "metadata": {},
     "source": [
      "Findings (numbered the same as the questions listed above):\n",
      "\n",
      "1. The distributions appear to be slightly different.\n",
      "2. Paired distances are not correlated by either metric.\n",
      "3. Distance matrices are weakly correlated."
     ]
    },
    {
     "cell_type": "heading",
     "level": 2,
     "metadata": {},
     "source": [
      "weighted unifrac analysis: ``--min_count_fraction 0.00005``"
     ]
    },
    {
     "cell_type": "code",
     "collapsed": false,
     "input": [
      "run1_weighted_dm = 'weighted_unifrac_original_otu_table_full_mcfrac00005_even3298.txt'\n",
      "run2_weighted_dm = 'weighted_unifrac_otu_table_mc2_w_tax_no_pynast_failures_mcfrac00005_even3298.txt'\n",
      "\n",
      "compare_distance_matrices(run1_weighted_dm, run2_weighted_dm, map_fp)"
     ],
     "language": "python",
     "metadata": {},
     "outputs": [
      {
       "output_type": "stream",
       "stream": "stdout",
       "text": [
        "dm1 paired distances\n",
        "(0.23445948404899999, 'F2F.3.Ce')\n",
        "(0.32009177873900002, 'F2F.2.Ce')\n",
        "(0.39648569324400001, 'F2W.2.Ca')\n",
        "(0.50594299659200004, 'F2W.2.Ce')\n",
        "(0.52028103878999998, 'F3W.2.Ce')\n",
        "(0.57993048578499995, 'F1F.3.Ca')\n",
        "(0.587910870852, 'F1W.3.Dr')\n",
        "(0.62306974690500005, 'F1W.2.Ce')\n",
        "(0.65373086021000004, 'F1C.3.Dr')\n",
        "(0.66623088106399997, 'F1C.3.Ca')\n",
        "n=10\n",
        "\n",
        "dm2 paired distances\n",
        "(0.25200807762299998, 'F2F.2.Ce')\n",
        "(0.40319136143099998, 'F1F.3.Ca')\n",
        "(0.41941901152200001, 'F2W.2.Ca')\n",
        "(0.46016367495499999, 'F1C.3.Dr')\n",
        "(0.50876787446899996, 'F3W.2.Ce')\n",
        "(0.518185269861, 'F2W.2.Ce')\n",
        "(0.53125204669500004, 'F2F.3.Ce')\n",
        "(0.58344153123099995, 'F1W.3.Dr')\n",
        "(0.60763237113400004, 'F1W.2.Ce')\n",
        "n=9\n",
        "Distance distribution comparison (Monte Carlo t-test):\n",
        "t=0.549, p=0.581000"
       ]
      },
      {
       "output_type": "stream",
       "stream": "stdout",
       "text": [
        "\n",
        "\n",
        "Pearson correlation (Monte Carlo test):"
       ]
      },
      {
       "output_type": "stream",
       "stream": "stdout",
       "text": [
        "\n",
        "r=0.399, p=0.287000\n",
        "\n",
        "Spearman correlation (Monte Carlo test):"
       ]
      },
      {
       "output_type": "stream",
       "stream": "stdout",
       "text": [
        "\n",
        "r=0.300, p=0.449000\n",
        "\n",
        "Mantel test\n"
       ]
      },
      {
       "output_type": "stream",
       "stream": "stdout",
       "text": [
        "# Number of entries refers to the number of rows (or cols) retained in each\r\n",
        "# distance matrix after filtering the distance matrices to include only those\r\n",
        "# samples that were in both distance matrices. p-value contains the correct\r\n",
        "# number of significant digits.\r\n",
        "DM1\tDM2\tNumber of entries\tMantel r statistic\tp-value\tNumber of permutations\tTail type\r\n",
        "weighted_unifrac_original_otu_table_full_mcfrac00005_even3298.txt\tweighted_unifrac_otu_table_mc2_w_tax_no_pynast_failures_mcfrac00005_even3298.txt\t19\t0.46446\t0.001\t999\ttwo sided\r\n"
       ]
      },
      {
       "output_type": "stream",
       "stream": "stdout",
       "text": [
        "\n"
       ]
      },
      {
       "metadata": {},
       "output_type": "display_data",
       "png": "[encoded data removed]",
       "text": [
        "<matplotlib.figure.Figure at 0x10c216310>"
       ]
      }
     ],
     "prompt_number": 25
    },
    {
     "cell_type": "markdown",
     "metadata": {},
     "source": [
      "Findings (numbered the same as the questions listed above):\n",
      "\n",
      "1. The distributions appear to be effectively the same.\n",
      "2. Paired distances are not correlated by either metric.\n",
      "3. Distance matrices are weakly correlated."
     ]
    },
    {
     "cell_type": "heading",
     "level": 2,
     "metadata": {},
     "source": [
      "unweighted analysis: mc10 filtering"
     ]
    },
    {
     "cell_type": "code",
     "collapsed": false,
     "input": [
      "run1_unweighted_dm = 'unweighted_unifrac_original_otu_table_full_mc10_even3387.txt'\n",
      "run2_unweighted_dm = 'unweighted_unifrac_otu_table_mc2_w_tax_no_pynast_failures_mc10_even3387.txt'"
     ],
     "language": "python",
     "metadata": {},
     "outputs": [],
     "prompt_number": 26
    },
    {
     "cell_type": "code",
     "collapsed": false,
     "input": [
      "compare_distance_matrices(run1_unweighted_dm, run2_unweighted_dm, map_fp)"
     ],
     "language": "python",
     "metadata": {},
     "outputs": [
      {
       "output_type": "stream",
       "stream": "stdout",
       "text": [
        "dm1 paired distances\n",
        "(0.45008514658299997, 'F2F.2.Ce')\n",
        "(0.45571861788700002, 'F2F.3.Ce')\n",
        "(0.59638436054400001, 'F2W.2.Ca')\n",
        "(0.64387264610899997, 'F3W.2.Ce')\n",
        "(0.68846089224700002, 'F1C.3.Dr')\n",
        "(0.70869126293499995, 'F1W.3.Dr')\n",
        "(0.71630275725699999, 'F2W.2.Ce')\n",
        "(0.736418299256, 'F1C.3.Ca')\n",
        "(0.74241587551599997, 'F1F.3.Ca')\n",
        "(0.77231685928100002, 'F1W.2.Ce')\n",
        "n=10\n",
        "\n",
        "dm2 paired distances\n",
        "(0.60412269165200005, 'F2F.2.Ce')\n",
        "(0.72337228500600004, 'F2W.2.Ca')\n",
        "(0.74345763305400003, 'F1C.3.Dr')\n",
        "(0.76290682753899997, 'F3W.2.Ce')\n",
        "(0.78155033224600001, 'F2W.2.Ce')\n",
        "(0.79814634667100004, 'F1F.3.Ca')\n",
        "(0.85899319462400003, 'F1W.2.Ce')\n",
        "(0.86749774727999995, 'F1W.3.Dr')\n",
        "(0.94461496797099997, 'F2F.3.Ce')\n",
        "n=9\n",
        "Distance distribution comparison (Monte Carlo t-test):\n",
        "t=-2.748, p=0.014000"
       ]
      },
      {
       "output_type": "stream",
       "stream": "stdout",
       "text": [
        "\n",
        "\n",
        "Pearson correlation (Monte Carlo test):"
       ]
      },
      {
       "output_type": "stream",
       "stream": "stdout",
       "text": [
        "\n",
        "r=0.237, p=0.524000\n",
        "\n",
        "Spearman correlation (Monte Carlo test):"
       ]
      },
      {
       "output_type": "stream",
       "stream": "stdout",
       "text": [
        "\n",
        "r=0.417, p=0.278000\n",
        "\n",
        "Mantel test\n"
       ]
      },
      {
       "output_type": "stream",
       "stream": "stdout",
       "text": [
        "# Number of entries refers to the number of rows (or cols) retained in each\r\n",
        "# distance matrix after filtering the distance matrices to include only those\r\n",
        "# samples that were in both distance matrices. p-value contains the correct\r\n",
        "# number of significant digits.\r\n",
        "DM1\tDM2\tNumber of entries\tMantel r statistic\tp-value\tNumber of permutations\tTail type\r\n",
        "unweighted_unifrac_original_otu_table_full_mc10_even3387.txt\tunweighted_unifrac_otu_table_mc2_w_tax_no_pynast_failures_mc10_even3387.txt\t19\t0.39520\t0.001\t999\ttwo sided\r\n"
       ]
      },
      {
       "output_type": "stream",
       "stream": "stdout",
       "text": [
        "\n"
       ]
      },
      {
       "metadata": {},
       "output_type": "display_data",
       "png": "[encoded data removed]",
       "text": [
        "<matplotlib.figure.Figure at 0x10c1bc310>"
       ]
      }
     ],
     "prompt_number": 27
    },
    {
     "cell_type": "markdown",
     "metadata": {},
     "source": [
      "Findings (numbered the same as the questions listed above):\n",
      "\n",
      "1. The distributions appear to be slightly different.\n",
      "2. Paired distances are not correlated by either metric.\n",
      "3. Distance matrices are weakly correlated."
     ]
    },
    {
     "cell_type": "heading",
     "level": 2,
     "metadata": {},
     "source": [
      "weighted analysis: mc10 filtering"
     ]
    },
    {
     "cell_type": "code",
     "collapsed": false,
     "input": [
      "run1_weighted_dm = 'weighted_unifrac_original_otu_table_full_mc10_even3387.txt'\n",
      "run2_weighted_dm = 'weighted_unifrac_otu_table_mc2_w_tax_no_pynast_failures_mc10_even3387.txt'"
     ],
     "language": "python",
     "metadata": {},
     "outputs": [],
     "prompt_number": 28
    },
    {
     "cell_type": "code",
     "collapsed": false,
     "input": [
      "compare_distance_matrices(run1_weighted_dm, run2_weighted_dm, map_fp)"
     ],
     "language": "python",
     "metadata": {},
     "outputs": [
      {
       "output_type": "stream",
       "stream": "stdout",
       "text": [
        "dm1 paired distances\n",
        "(0.235126185844, 'F2F.3.Ce')\n",
        "(0.29679711998500002, 'F2F.2.Ce')\n",
        "(0.38922914978299999, 'F2W.2.Ca')\n",
        "(0.47957662637800003, 'F2W.2.Ce')\n",
        "(0.51727702685800003, 'F3W.2.Ce')\n",
        "(0.57992568342999995, 'F1F.3.Ca')\n",
        "(0.58463752206899999, 'F1W.3.Dr')\n",
        "(0.63742961787100005, 'F1W.2.Ce')\n",
        "(0.64207298047700001, 'F1C.3.Dr')\n",
        "(0.64789498376700005, 'F1C.3.Ca')\n",
        "n=10\n",
        "\n",
        "dm2 paired distances\n",
        "(0.247898653676, 'F2F.2.Ce')\n",
        "(0.38440046944200001, 'F1F.3.Ca')\n",
        "(0.413586708001, 'F2W.2.Ca')\n",
        "(0.451960410393, 'F1C.3.Dr')\n",
        "(0.50447129022699999, 'F2W.2.Ce')\n",
        "(0.50840893120800001, 'F3W.2.Ce')\n",
        "(0.53259871272500003, 'F2F.3.Ce')\n",
        "(0.58851077354600001, 'F1W.3.Dr')\n",
        "(0.60568069678199998, 'F1W.2.Ce')\n",
        "n=9\n",
        "Distance distribution comparison (Monte Carlo t-test):\n",
        "t=0.496, p=0.641000"
       ]
      },
      {
       "output_type": "stream",
       "stream": "stdout",
       "text": [
        "\n",
        "\n",
        "Pearson correlation (Monte Carlo test):"
       ]
      },
      {
       "output_type": "stream",
       "stream": "stdout",
       "text": [
        "\n",
        "r=0.411, p=0.261000\n",
        "\n",
        "Spearman correlation (Monte Carlo test):"
       ]
      },
      {
       "output_type": "stream",
       "stream": "stdout",
       "text": [
        "\n",
        "r=0.317, p=0.417000\n",
        "\n",
        "Mantel test\n"
       ]
      },
      {
       "output_type": "stream",
       "stream": "stdout",
       "text": [
        "# Number of entries refers to the number of rows (or cols) retained in each\r\n",
        "# distance matrix after filtering the distance matrices to include only those\r\n",
        "# samples that were in both distance matrices. p-value contains the correct\r\n",
        "# number of significant digits.\r\n",
        "DM1\tDM2\tNumber of entries\tMantel r statistic\tp-value\tNumber of permutations\tTail type\r\n",
        "weighted_unifrac_original_otu_table_full_mc10_even3387.txt\tweighted_unifrac_otu_table_mc2_w_tax_no_pynast_failures_mc10_even3387.txt\t19\t0.43785\t0.001\t999\ttwo sided\r\n"
       ]
      },
      {
       "output_type": "stream",
       "stream": "stdout",
       "text": [
        "\n"
       ]
      },
      {
       "metadata": {},
       "output_type": "display_data",
       "png": "[encoded data removed]",
       "text": [
        "<matplotlib.figure.Figure at 0x10c275310>"
       ]
      }
     ],
     "prompt_number": 29
    },
    {
     "cell_type": "markdown",
     "metadata": {},
     "source": [
      "Findings (numbered the same as the questions listed above):\n",
      "\n",
      "1. The distributions appear to be effectively the same.\n",
      "2. Paired distances are not correlated by either metric.\n",
      "3. Distance matrices are weakly correlated."
     ]
    },
    {
     "cell_type": "code",
     "collapsed": false,
     "input": [],
     "language": "python",
     "metadata": {},
     "outputs": [],
     "prompt_number": 29
    }
   ],
   "metadata": {}
  }
 ]
}